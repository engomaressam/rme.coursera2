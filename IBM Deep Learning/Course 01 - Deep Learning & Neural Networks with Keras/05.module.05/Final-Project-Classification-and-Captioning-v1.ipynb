{
 "cells": [
  {
   "cell_type": "markdown",
   "id": "bd255a8b-83cc-4ca8-99a4-cd263081bcd0",
   "metadata": {},
   "source": [
    "<p style=\"text-align:center\">\n",
    "    <a href=\"https://skills.network\" target=\"_blank\">\n",
    "    <img src=\"https://cf-courses-data.s3.us.cloud-object-storage.appdomain.cloud/assets/logos/SN_web_lightmode.png\" width=\"200\" alt=\"Skills Network Logo\"  />\n",
    "    </a>\n",
    "</p>\n"
   ]
  },
  {
   "cell_type": "markdown",
   "id": "a09deab8-243d-4e10-af9d-b1490625a13c",
   "metadata": {},
   "source": [
    "# Final Project: Classification and Captioning Aircraft Damage Using Pretrained Models\n"
   ]
  },
  {
   "cell_type": "markdown",
   "id": "aca17f62-8229-4cb1-a757-1c69d980c0dd",
   "metadata": {},
   "source": [
    "Estimated time needed: **90** minutes\n"
   ]
  },
  {
   "cell_type": "markdown",
   "id": "6a16bdba-05a9-4ed7-a57c-10e5e90490ae",
   "metadata": {},
   "source": [
    "## **Introduction**\n",
    "\n",
    "In this project, you will classify aircraft damage using a pre-trained VGG16 model and generate captions using a Transformer-based pretrained model.\n",
    "\n",
    "## **Project Overview**\n",
    "\n",
    "Aircraft damage detection is essential for maintaining the safety and longevity of aircraft. Traditional manual inspection methods are time-consuming and prone to human error. This project aims to automate the classification of aircraft damage into two categories: \"dent\" and \"crack.\" For this, we will utilize feature extraction with a pre-trained VGG16 model to classify the damage from aircraft images. Additionally, we will use a pre-trained Transformer model to generate captions and summaries for the images.\n",
    "\n",
    "## **Aim of the Project**\n",
    "\n",
    "The goal of this project is to develop an automated model that accurately classifies aircraft damage from images. By the end of the project, you will have trained and evaluated a model that utilizes feature extraction from VGG16 for damage classification. This model will be applicable in real-world damage detection within the aviation industry. Furthermore, the project will showcase how we can use a Transformer-based model to caption and summarize images, providing a detailed description of the damage.\n",
    "\n",
    "## **Final Output**\n",
    "\n",
    "- A trained model capable of classifying aircraft images into \"dent\" and \"crack\" categories, enabling automated aircraft damage detection.\n",
    "- A Transformer-based model that generates captions and summaries of images\n"
   ]
  },
  {
   "cell_type": "markdown",
   "id": "2485c766-0ca8-4fe8-ac34-e273f710e31f",
   "metadata": {},
   "source": [
    "You will be using the [Aircraft dataset](https://cf-courses-data.s3.us.cloud-object-storage.appdomain.cloud/ZjXM4RKxlBK9__ZjHBLl5A/aircraft-damage-dataset-v1.tar).\n",
    "The dataset is taken from the here (Original Source): [Roboflow Aircraft Dataset](https://universe.roboflow.com/youssef-donia-fhktl/aircraft-damage-detection-1j9qk) Provided by a Roboflow user, License: CC BY 4.\n"
   ]
  },
  {
   "cell_type": "markdown",
   "id": "772587bf-7703-442b-92ce-19f0d2ec7727",
   "metadata": {},
   "source": [
    "<h2>Table of Contents</h2>\n",
    " \n",
    "<div class=\"alert alert-block alert-info\" style=\"margin-top: 20px\">\n",
    "    <p><font size=\"5\">Part 1 - Classification Problem: Classifying the defect on the aircraft as 'dent' or 'crack'</p>\n",
    "<font size=\"3\">\n",
    "        1. <a href=\"#1.1-Dataset-Preparation\">1.1 Dataset Preparation</a><br>\n",
    "        2. <a href=\"#1.2-Data-Preprocessing\">1.2 Data Preprocessing</a><br>\n",
    "        3. <a href=\"#1.3-Model-Definition\">1.3 Model Definition</a><br>\n",
    "        4. <a href=\"#1.4-Model-Training\">1.4 Model Training</a><br>\n",
    "        5. <a href=\"#1.5-Visualizing-Training-Results\">1.5 Visualizing Training Results</a><br>\n",
    "        6. <a href=\"#1.6-Model-Evaluation\">1.6 Model Evaluation</a><br>\n",
    "        7. <a href=\"#1.7-Visualizing-Predictions\">1.7 Visualizing Predictions</a><br>\n",
    "    <br>\n",
    "<p><font size=\"5\">Part 2: Image Captioning and Summarization using BLIP Pretrained Model</p>\n",
    "<font size=\"3\">\n",
    "        1. <a href=\"#2.1-Loading-BLIP-Model\">2.1 Loading BLIP Model</a><br>\n",
    "        2. <a href=\"#2.2-Generating-Captions-and-Summaries\">2.2 Generating Captions and Summaries</a><br>\n",
    "        <br>\n",
    "    \n"
   ]
  },
  {
   "cell_type": "markdown",
   "id": "785e99ac-0960-44a9-a98c-09a93a8e0cfb",
   "metadata": {},
   "source": [
    "# 1.1 Dataset-Preparation\n"
   ]
  },
  {
   "cell_type": "markdown",
   "id": "3666d9e5-90c4-4da7-a4ae-51c45a8203ea",
   "metadata": {},
   "source": [
    "## Objectives\n",
    "\n",
    "After you complete the project, you will be able to:\n",
    "\n",
    "- Use the VGG16 model for image classification.\n",
    "- Prepare and preprocess image data for a machine learning task.\n",
    "- Evaluate the model’s performance using appropriate metrics.\n",
    "- Visualize model predictions on test data.\n",
    "- Use a custom Keras layer. \n",
    "\n",
    "\n",
    " ### Task List\n",
    "To achieve the above objectives, you will complete the following tasks:\n",
    "\n",
    "- Task 1: Create a `valid_generator` using the `valid_datagen` object\n",
    "- Task 2: Create a `test_generator` using the `test_datagen` object\n",
    "- Task 3: Load the VGG16 model\n",
    "- Task 4: Compile the model\n",
    "- Task 5: Train the model\n",
    "- Task 6: Plot accuracy curves for training and validation sets \n",
    "- Task 7: Visualizing the results \n",
    "- Task 8: Implement a Helper Function to Use the Custom Keras Layer\n",
    "- Task 9: Generate a caption for an image using the using BLIP pretrained model\n",
    "- Task 10: Generate a summary of an image using BLIP pretrained model\n",
    "\n",
    "**Note**:.<br>\n",
    "1. For each task, copy and save the code or output as mentioned in the task for final grading.<br>\n",
    "2. Download the file after completion of the final project.The file should have both code and output.This will be used for final grading.\n"
   ]
  },
  {
   "cell_type": "markdown",
   "id": "3e125355-045d-4f89-bebe-1cee4f6bf482",
   "metadata": {},
   "source": [
    "## Setup\n"
   ]
  },
  {
   "cell_type": "code",
   "execution_count": 1,
   "id": "5be021e3-88e2-44bd-b8de-903addc83271",
   "metadata": {},
   "outputs": [],
   "source": [
    "import warnings\n",
    "warnings.filterwarnings('ignore')"
   ]
  },
  {
   "cell_type": "markdown",
   "id": "1c9d5d8a-3f95-4335-a719-30d2bed1e3ea",
   "metadata": {},
   "source": [
    "### Installing Required Libraries\n"
   ]
  },
  {
   "cell_type": "markdown",
   "id": "77d37302-42f9-47e7-bef8-0fdada0f35f4",
   "metadata": {},
   "source": [
    "The following required libraries are __not__ pre-installed in the Skills Network Labs environment. __You will need to run the following cell__ to install them:\n"
   ]
  },
  {
   "cell_type": "code",
   "execution_count": 2,
   "id": "b8104fcc-fdfd-445e-a919-862c1d63c66a",
   "metadata": {},
   "outputs": [
    {
     "name": "stdout",
     "output_type": "stream",
     "text": [
      "Defaulting to user installation because normal site-packages is not writeable\n",
      "Collecting pandas==2.2.3\n",
      "  Using cached pandas-2.2.3-cp313-cp313-win_amd64.whl.metadata (19 kB)\n",
      "Requirement already satisfied: numpy>=1.26.0 in c:\\users\\omar essam2\\appdata\\roaming\\python\\python313\\site-packages (from pandas==2.2.3) (2.3.1)\n",
      "Requirement already satisfied: python-dateutil>=2.8.2 in c:\\users\\omar essam2\\appdata\\roaming\\python\\python313\\site-packages (from pandas==2.2.3) (2.9.0.post0)\n",
      "Requirement already satisfied: pytz>=2020.1 in c:\\users\\omar essam2\\appdata\\roaming\\python\\python313\\site-packages (from pandas==2.2.3) (2025.2)\n",
      "Requirement already satisfied: tzdata>=2022.7 in c:\\users\\omar essam2\\appdata\\roaming\\python\\python313\\site-packages (from pandas==2.2.3) (2025.2)\n",
      "Requirement already satisfied: six>=1.5 in c:\\users\\omar essam2\\appdata\\roaming\\python\\python313\\site-packages (from python-dateutil>=2.8.2->pandas==2.2.3) (1.17.0)\n",
      "Using cached pandas-2.2.3-cp313-cp313-win_amd64.whl (11.5 MB)\n",
      "Installing collected packages: pandas\n",
      "  Attempting uninstall: pandas\n",
      "    Found existing installation: pandas 2.3.0\n",
      "    Uninstalling pandas-2.3.0:\n",
      "      Successfully uninstalled pandas-2.3.0\n",
      "Successfully installed pandas-2.2.3\n"
     ]
    },
    {
     "name": "stderr",
     "output_type": "stream",
     "text": [
      "  WARNING: Failed to remove contents in a temporary directory 'C:\\Users\\Omar Essam2\\AppData\\Roaming\\Python\\Python313\\site-packages\\~andas.libs'.\n",
      "  You can safely remove it manually.\n",
      "  WARNING: Failed to remove contents in a temporary directory 'C:\\Users\\Omar Essam2\\AppData\\Roaming\\Python\\Python313\\site-packages\\~andas'.\n",
      "  You can safely remove it manually.\n"
     ]
    },
    {
     "name": "stdout",
     "output_type": "stream",
     "text": [
      "Defaulting to user installation because normal site-packages is not writeable\n"
     ]
    },
    {
     "name": "stderr",
     "output_type": "stream",
     "text": [
      "ERROR: Could not find a version that satisfies the requirement tensorflow==2.17.1 (from versions: none)\n",
      "ERROR: No matching distribution found for tensorflow==2.17.1\n"
     ]
    },
    {
     "name": "stdout",
     "output_type": "stream",
     "text": [
      "Defaulting to user installation because normal site-packages is not writeable\n",
      "Collecting pillow==11.1.0\n",
      "  Downloading pillow-11.1.0-cp313-cp313-win_amd64.whl.metadata (9.3 kB)\n",
      "Downloading pillow-11.1.0-cp313-cp313-win_amd64.whl (2.6 MB)\n",
      "   ---------------------------------------- 0.0/2.6 MB ? eta -:--:--\n",
      "   ---------------------------------------- 0.0/2.6 MB ? eta -:--:--\n",
      "   ---------------------------------------- 0.0/2.6 MB ? eta -:--:--\n",
      "   ---------------------------------------- 0.0/2.6 MB ? eta -:--:--\n",
      "   ---------------------------------------- 0.0/2.6 MB ? eta -:--:--\n",
      "   ---------------------------------------- 0.0/2.6 MB ? eta -:--:--\n",
      "   ---------------------------------------- 0.0/2.6 MB ? eta -:--:--\n",
      "   ---------------------------------------- 0.0/2.6 MB ? eta -:--:--\n",
      "   ---------------------------------------- 0.0/2.6 MB ? eta -:--:--\n",
      "   ---------------------------------------- 0.0/2.6 MB ? eta -:--:--\n",
      "   --- ------------------------------------ 0.3/2.6 MB ? eta -:--:--\n",
      "   --- ------------------------------------ 0.3/2.6 MB ? eta -:--:--\n",
      "   --- ------------------------------------ 0.3/2.6 MB ? eta -:--:--\n",
      "   --- ------------------------------------ 0.3/2.6 MB ? eta -:--:--\n",
      "   --- ------------------------------------ 0.3/2.6 MB ? eta -:--:--\n",
      "   --- ------------------------------------ 0.3/2.6 MB ? eta -:--:--\n",
      "   --- ------------------------------------ 0.3/2.6 MB ? eta -:--:--\n",
      "   --- ------------------------------------ 0.3/2.6 MB ? eta -:--:--\n",
      "   --- ------------------------------------ 0.3/2.6 MB ? eta -:--:--\n",
      "   --- ------------------------------------ 0.3/2.6 MB ? eta -:--:--\n",
      "   --- ------------------------------------ 0.3/2.6 MB ? eta -:--:--\n",
      "   --- ------------------------------------ 0.3/2.6 MB ? eta -:--:--\n",
      "   --- ------------------------------------ 0.3/2.6 MB ? eta -:--:--\n",
      "   --- ------------------------------------ 0.3/2.6 MB ? eta -:--:--\n",
      "   ------- -------------------------------- 0.5/2.6 MB 91.6 kB/s eta 0:00:23\n",
      "   ------- -------------------------------- 0.5/2.6 MB 91.6 kB/s eta 0:00:23\n",
      "   ------- -------------------------------- 0.5/2.6 MB 91.6 kB/s eta 0:00:23\n",
      "   ------- -------------------------------- 0.5/2.6 MB 91.6 kB/s eta 0:00:23\n",
      "   ------- -------------------------------- 0.5/2.6 MB 91.6 kB/s eta 0:00:23\n",
      "   ------- -------------------------------- 0.5/2.6 MB 91.6 kB/s eta 0:00:23\n",
      "   ------- -------------------------------- 0.5/2.6 MB 91.6 kB/s eta 0:00:23\n",
      "   ------- -------------------------------- 0.5/2.6 MB 91.6 kB/s eta 0:00:23\n",
      "   ------- -------------------------------- 0.5/2.6 MB 91.6 kB/s eta 0:00:23\n",
      "   ------- -------------------------------- 0.5/2.6 MB 91.6 kB/s eta 0:00:23\n",
      "   ------- -------------------------------- 0.5/2.6 MB 91.6 kB/s eta 0:00:23\n",
      "   ------- -------------------------------- 0.5/2.6 MB 91.6 kB/s eta 0:00:23\n",
      "   ------- -------------------------------- 0.5/2.6 MB 91.6 kB/s eta 0:00:23\n",
      "   ------- -------------------------------- 0.5/2.6 MB 91.6 kB/s eta 0:00:23\n",
      "   ------- -------------------------------- 0.5/2.6 MB 91.6 kB/s eta 0:00:23\n",
      "   ------- -------------------------------- 0.5/2.6 MB 91.6 kB/s eta 0:00:23\n",
      "   ------- -------------------------------- 0.5/2.6 MB 91.6 kB/s eta 0:00:23\n",
      "   ------- -------------------------------- 0.5/2.6 MB 91.6 kB/s eta 0:00:23\n",
      "   ------- -------------------------------- 0.5/2.6 MB 91.6 kB/s eta 0:00:23\n",
      "   ------- -------------------------------- 0.5/2.6 MB 91.6 kB/s eta 0:00:23\n",
      "   ------- -------------------------------- 0.5/2.6 MB 91.6 kB/s eta 0:00:23\n",
      "   ------- -------------------------------- 0.5/2.6 MB 91.6 kB/s eta 0:00:23\n",
      "   ------- -------------------------------- 0.5/2.6 MB 91.6 kB/s eta 0:00:23\n",
      "   ------- -------------------------------- 0.5/2.6 MB 91.6 kB/s eta 0:00:23\n",
      "   ------- -------------------------------- 0.5/2.6 MB 91.6 kB/s eta 0:00:23\n",
      "   ------- -------------------------------- 0.5/2.6 MB 91.6 kB/s eta 0:00:23\n",
      "   ------- -------------------------------- 0.5/2.6 MB 91.6 kB/s eta 0:00:23\n",
      "   ------- -------------------------------- 0.5/2.6 MB 91.6 kB/s eta 0:00:23\n",
      "   ------- -------------------------------- 0.5/2.6 MB 91.6 kB/s eta 0:00:23\n",
      "   ------- -------------------------------- 0.5/2.6 MB 91.6 kB/s eta 0:00:23\n",
      "   ------- -------------------------------- 0.5/2.6 MB 91.6 kB/s eta 0:00:23\n",
      "   ------- -------------------------------- 0.5/2.6 MB 91.6 kB/s eta 0:00:23\n",
      "   ----------- ---------------------------- 0.8/2.6 MB 56.1 kB/s eta 0:00:33\n",
      "   ----------- ---------------------------- 0.8/2.6 MB 56.1 kB/s eta 0:00:33\n",
      "   ----------- ---------------------------- 0.8/2.6 MB 56.1 kB/s eta 0:00:33\n",
      "   ----------- ---------------------------- 0.8/2.6 MB 56.1 kB/s eta 0:00:33\n",
      "   ----------- ---------------------------- 0.8/2.6 MB 56.1 kB/s eta 0:00:33\n",
      "   ----------- ---------------------------- 0.8/2.6 MB 56.1 kB/s eta 0:00:33\n",
      "   ----------- ---------------------------- 0.8/2.6 MB 56.1 kB/s eta 0:00:33\n",
      "   ----------- ---------------------------- 0.8/2.6 MB 56.1 kB/s eta 0:00:33\n",
      "   ----------- ---------------------------- 0.8/2.6 MB 56.1 kB/s eta 0:00:33\n",
      "   ----------- ---------------------------- 0.8/2.6 MB 56.1 kB/s eta 0:00:33\n",
      "   ----------- ---------------------------- 0.8/2.6 MB 56.1 kB/s eta 0:00:33\n",
      "   ----------- ---------------------------- 0.8/2.6 MB 56.1 kB/s eta 0:00:33\n",
      "   ----------- ---------------------------- 0.8/2.6 MB 56.1 kB/s eta 0:00:33\n",
      "   ----------- ---------------------------- 0.8/2.6 MB 56.1 kB/s eta 0:00:33\n",
      "   ----------- ---------------------------- 0.8/2.6 MB 56.1 kB/s eta 0:00:33\n",
      "   ----------- ---------------------------- 0.8/2.6 MB 56.1 kB/s eta 0:00:33\n",
      "   ----------- ---------------------------- 0.8/2.6 MB 56.1 kB/s eta 0:00:33\n",
      "   ----------- ---------------------------- 0.8/2.6 MB 56.1 kB/s eta 0:00:33\n",
      "   ----------- ---------------------------- 0.8/2.6 MB 56.1 kB/s eta 0:00:33\n",
      "   ----------- ---------------------------- 0.8/2.6 MB 56.1 kB/s eta 0:00:33\n",
      "   ----------- ---------------------------- 0.8/2.6 MB 56.1 kB/s eta 0:00:33\n",
      "   ----------- ---------------------------- 0.8/2.6 MB 56.1 kB/s eta 0:00:33\n",
      "   ----------- ---------------------------- 0.8/2.6 MB 56.1 kB/s eta 0:00:33\n",
      "   ----------- ---------------------------- 0.8/2.6 MB 56.1 kB/s eta 0:00:33\n",
      "   ----------- ---------------------------- 0.8/2.6 MB 56.1 kB/s eta 0:00:33\n",
      "   ----------- ---------------------------- 0.8/2.6 MB 56.1 kB/s eta 0:00:33\n",
      "   ----------- ---------------------------- 0.8/2.6 MB 56.1 kB/s eta 0:00:33\n",
      "   ----------- ---------------------------- 0.8/2.6 MB 56.1 kB/s eta 0:00:33\n",
      "   ----------- ---------------------------- 0.8/2.6 MB 56.1 kB/s eta 0:00:33\n",
      "   ----------- ---------------------------- 0.8/2.6 MB 56.1 kB/s eta 0:00:33\n",
      "   ----------- ---------------------------- 0.8/2.6 MB 56.1 kB/s eta 0:00:33\n",
      "   ----------- ---------------------------- 0.8/2.6 MB 56.1 kB/s eta 0:00:33\n",
      "   ----------- ---------------------------- 0.8/2.6 MB 56.1 kB/s eta 0:00:33\n",
      "   ----------- ---------------------------- 0.8/2.6 MB 56.1 kB/s eta 0:00:33\n",
      "   --------------- ------------------------ 1.0/2.6 MB 47.6 kB/s eta 0:00:34\n",
      "   --------------- ------------------------ 1.0/2.6 MB 47.6 kB/s eta 0:00:34\n",
      "   --------------- ------------------------ 1.0/2.6 MB 47.6 kB/s eta 0:00:34\n",
      "   --------------- ------------------------ 1.0/2.6 MB 47.6 kB/s eta 0:00:34\n",
      "   --------------- ------------------------ 1.0/2.6 MB 47.6 kB/s eta 0:00:34\n",
      "   --------------- ------------------------ 1.0/2.6 MB 47.6 kB/s eta 0:00:34\n",
      "   --------------- ------------------------ 1.0/2.6 MB 47.6 kB/s eta 0:00:34\n",
      "   --------------- ------------------------ 1.0/2.6 MB 47.6 kB/s eta 0:00:34\n",
      "   --------------- ------------------------ 1.0/2.6 MB 47.6 kB/s eta 0:00:34\n",
      "   --------------- ------------------------ 1.0/2.6 MB 47.6 kB/s eta 0:00:34\n",
      "   --------------- ------------------------ 1.0/2.6 MB 47.6 kB/s eta 0:00:34\n",
      "   --------------- ------------------------ 1.0/2.6 MB 47.6 kB/s eta 0:00:34\n",
      "   --------------- ------------------------ 1.0/2.6 MB 47.6 kB/s eta 0:00:34\n",
      "   --------------- ------------------------ 1.0/2.6 MB 47.6 kB/s eta 0:00:34\n",
      "   --------------- ------------------------ 1.0/2.6 MB 47.6 kB/s eta 0:00:34\n",
      "   --------------- ------------------------ 1.0/2.6 MB 47.6 kB/s eta 0:00:34\n",
      "   --------------- ------------------------ 1.0/2.6 MB 47.6 kB/s eta 0:00:34\n",
      "   ------------------- -------------------- 1.3/2.6 MB 52.4 kB/s eta 0:00:26\n",
      "   ------------------- -------------------- 1.3/2.6 MB 52.4 kB/s eta 0:00:26\n",
      "   ------------------- -------------------- 1.3/2.6 MB 52.4 kB/s eta 0:00:26\n",
      "   ------------------- -------------------- 1.3/2.6 MB 52.4 kB/s eta 0:00:26\n",
      "   ------------------- -------------------- 1.3/2.6 MB 52.4 kB/s eta 0:00:26\n",
      "   ------------------- -------------------- 1.3/2.6 MB 52.4 kB/s eta 0:00:26\n",
      "   ------------------- -------------------- 1.3/2.6 MB 52.4 kB/s eta 0:00:26\n",
      "   ------------------- -------------------- 1.3/2.6 MB 52.4 kB/s eta 0:00:26\n",
      "   ------------------- -------------------- 1.3/2.6 MB 52.4 kB/s eta 0:00:26\n",
      "   ------------------- -------------------- 1.3/2.6 MB 52.4 kB/s eta 0:00:26\n",
      "   ------------------- -------------------- 1.3/2.6 MB 52.4 kB/s eta 0:00:26\n",
      "   ------------------- -------------------- 1.3/2.6 MB 52.4 kB/s eta 0:00:26\n",
      "   ------------------- -------------------- 1.3/2.6 MB 52.4 kB/s eta 0:00:26\n",
      "   ------------------- -------------------- 1.3/2.6 MB 52.4 kB/s eta 0:00:26\n",
      "   ------------------- -------------------- 1.3/2.6 MB 52.4 kB/s eta 0:00:26\n",
      "   ------------------- -------------------- 1.3/2.6 MB 52.4 kB/s eta 0:00:26\n",
      "   ------------------- -------------------- 1.3/2.6 MB 52.4 kB/s eta 0:00:26\n",
      "   ------------------- -------------------- 1.3/2.6 MB 52.4 kB/s eta 0:00:26\n",
      "   ------------------- -------------------- 1.3/2.6 MB 52.4 kB/s eta 0:00:26\n",
      "   ------------------- -------------------- 1.3/2.6 MB 52.4 kB/s eta 0:00:26\n",
      "   ------------------- -------------------- 1.3/2.6 MB 52.4 kB/s eta 0:00:26\n",
      "   ------------------- -------------------- 1.3/2.6 MB 52.4 kB/s eta 0:00:26\n",
      "   ------------------- -------------------- 1.3/2.6 MB 52.4 kB/s eta 0:00:26\n",
      "   ------------------- -------------------- 1.3/2.6 MB 52.4 kB/s eta 0:00:26\n",
      "   ------------------- -------------------- 1.3/2.6 MB 52.4 kB/s eta 0:00:26\n",
      "   ------------------- -------------------- 1.3/2.6 MB 52.4 kB/s eta 0:00:26\n",
      "   ------------------- -------------------- 1.3/2.6 MB 52.4 kB/s eta 0:00:26\n",
      "   ------------------- -------------------- 1.3/2.6 MB 52.4 kB/s eta 0:00:26\n",
      "   ----------------------- ---------------- 1.6/2.6 MB 50.8 kB/s eta 0:00:21\n",
      "   ----------------------- ---------------- 1.6/2.6 MB 50.8 kB/s eta 0:00:21\n",
      "   ----------------------- ---------------- 1.6/2.6 MB 50.8 kB/s eta 0:00:21\n",
      "   ----------------------- ---------------- 1.6/2.6 MB 50.8 kB/s eta 0:00:21\n",
      "   ----------------------- ---------------- 1.6/2.6 MB 50.8 kB/s eta 0:00:21\n",
      "   ----------------------- ---------------- 1.6/2.6 MB 50.8 kB/s eta 0:00:21\n",
      "   ----------------------- ---------------- 1.6/2.6 MB 50.8 kB/s eta 0:00:21\n",
      "   ----------------------- ---------------- 1.6/2.6 MB 50.8 kB/s eta 0:00:21\n",
      "   ----------------------- ---------------- 1.6/2.6 MB 50.8 kB/s eta 0:00:21\n",
      "   ----------------------- ---------------- 1.6/2.6 MB 50.8 kB/s eta 0:00:21\n",
      "   ----------------------- ---------------- 1.6/2.6 MB 50.8 kB/s eta 0:00:21\n",
      "   ----------------------- ---------------- 1.6/2.6 MB 50.8 kB/s eta 0:00:21\n",
      "   ----------------------- ---------------- 1.6/2.6 MB 50.8 kB/s eta 0:00:21\n",
      "   ----------------------- ---------------- 1.6/2.6 MB 50.8 kB/s eta 0:00:21\n",
      "   ----------------------- ---------------- 1.6/2.6 MB 50.8 kB/s eta 0:00:21\n",
      "   ----------------------- ---------------- 1.6/2.6 MB 50.8 kB/s eta 0:00:21\n",
      "   ----------------------- ---------------- 1.6/2.6 MB 50.8 kB/s eta 0:00:21\n",
      "   ----------------------- ---------------- 1.6/2.6 MB 50.8 kB/s eta 0:00:21\n",
      "   ----------------------- ---------------- 1.6/2.6 MB 50.8 kB/s eta 0:00:21\n",
      "   ----------------------- ---------------- 1.6/2.6 MB 50.8 kB/s eta 0:00:21\n",
      "   ----------------------- ---------------- 1.6/2.6 MB 50.8 kB/s eta 0:00:21\n",
      "   --------------------------- ------------ 1.8/2.6 MB 48.2 kB/s eta 0:00:17\n",
      "   --------------------------- ------------ 1.8/2.6 MB 48.2 kB/s eta 0:00:17\n",
      "   --------------------------- ------------ 1.8/2.6 MB 48.2 kB/s eta 0:00:17\n",
      "   --------------------------- ------------ 1.8/2.6 MB 48.2 kB/s eta 0:00:17\n",
      "   --------------------------- ------------ 1.8/2.6 MB 48.2 kB/s eta 0:00:17\n",
      "   --------------------------- ------------ 1.8/2.6 MB 48.2 kB/s eta 0:00:17\n",
      "   --------------------------- ------------ 1.8/2.6 MB 48.2 kB/s eta 0:00:17\n",
      "   --------------------------- ------------ 1.8/2.6 MB 48.2 kB/s eta 0:00:17\n",
      "   --------------------------- ------------ 1.8/2.6 MB 48.2 kB/s eta 0:00:17\n",
      "   --------------------------- ------------ 1.8/2.6 MB 48.2 kB/s eta 0:00:17\n",
      "   --------------------------- ------------ 1.8/2.6 MB 48.2 kB/s eta 0:00:17\n",
      "   --------------------------- ------------ 1.8/2.6 MB 48.2 kB/s eta 0:00:17\n",
      "   --------------------------- ------------ 1.8/2.6 MB 48.2 kB/s eta 0:00:17\n",
      "   --------------------------- ------------ 1.8/2.6 MB 48.2 kB/s eta 0:00:17\n",
      "   --------------------------- ------------ 1.8/2.6 MB 48.2 kB/s eta 0:00:17\n",
      "   --------------------------- ------------ 1.8/2.6 MB 48.2 kB/s eta 0:00:17\n",
      "   --------------------------- ------------ 1.8/2.6 MB 48.2 kB/s eta 0:00:17\n",
      "   --------------------------- ------------ 1.8/2.6 MB 48.2 kB/s eta 0:00:17\n",
      "   --------------------------- ------------ 1.8/2.6 MB 48.2 kB/s eta 0:00:17\n",
      "   --------------------------- ------------ 1.8/2.6 MB 48.2 kB/s eta 0:00:17\n",
      "   --------------------------- ------------ 1.8/2.6 MB 48.2 kB/s eta 0:00:17\n",
      "   --------------------------- ------------ 1.8/2.6 MB 48.2 kB/s eta 0:00:17\n",
      "   ------------------------------- -------- 2.1/2.6 MB 52.1 kB/s eta 0:00:11\n",
      "   ------------------------------- -------- 2.1/2.6 MB 52.1 kB/s eta 0:00:11\n",
      "   ------------------------------- -------- 2.1/2.6 MB 52.1 kB/s eta 0:00:11\n",
      "   ------------------------------- -------- 2.1/2.6 MB 52.1 kB/s eta 0:00:11\n",
      "   ------------------------------- -------- 2.1/2.6 MB 52.1 kB/s eta 0:00:11\n",
      "   ------------------------------- -------- 2.1/2.6 MB 52.1 kB/s eta 0:00:11\n",
      "   ------------------------------- -------- 2.1/2.6 MB 52.1 kB/s eta 0:00:11\n",
      "   ------------------------------- -------- 2.1/2.6 MB 52.1 kB/s eta 0:00:11\n",
      "   ------------------------------- -------- 2.1/2.6 MB 52.1 kB/s eta 0:00:11\n",
      "   ------------------------------- -------- 2.1/2.6 MB 52.1 kB/s eta 0:00:11\n",
      "   ------------------------------- -------- 2.1/2.6 MB 52.1 kB/s eta 0:00:11\n",
      "   ------------------------------- -------- 2.1/2.6 MB 52.1 kB/s eta 0:00:11\n",
      "   ------------------------------- -------- 2.1/2.6 MB 52.1 kB/s eta 0:00:11\n",
      "   ------------------------------- -------- 2.1/2.6 MB 52.1 kB/s eta 0:00:11\n",
      "   ------------------------------- -------- 2.1/2.6 MB 52.1 kB/s eta 0:00:11\n",
      "   ------------------------------- -------- 2.1/2.6 MB 52.1 kB/s eta 0:00:11\n",
      "   ------------------------------- -------- 2.1/2.6 MB 52.1 kB/s eta 0:00:11\n",
      "   ------------------------------- -------- 2.1/2.6 MB 52.1 kB/s eta 0:00:11\n",
      "   ------------------------------- -------- 2.1/2.6 MB 52.1 kB/s eta 0:00:11\n",
      "   ------------------------------- -------- 2.1/2.6 MB 52.1 kB/s eta 0:00:11\n",
      "   ------------------------------- -------- 2.1/2.6 MB 52.1 kB/s eta 0:00:11\n",
      "   ------------------------------- -------- 2.1/2.6 MB 52.1 kB/s eta 0:00:11\n",
      "   ------------------------------- -------- 2.1/2.6 MB 52.1 kB/s eta 0:00:11\n",
      "   ------------------------------- -------- 2.1/2.6 MB 52.1 kB/s eta 0:00:11\n",
      "   ------------------------------- -------- 2.1/2.6 MB 52.1 kB/s eta 0:00:11\n",
      "   ------------------------------- -------- 2.1/2.6 MB 52.1 kB/s eta 0:00:11\n",
      "   ------------------------------- -------- 2.1/2.6 MB 52.1 kB/s eta 0:00:11\n",
      "   ------------------------------- -------- 2.1/2.6 MB 52.1 kB/s eta 0:00:11\n",
      "   ------------------------------- -------- 2.1/2.6 MB 52.1 kB/s eta 0:00:11\n",
      "   ------------------------------- -------- 2.1/2.6 MB 52.1 kB/s eta 0:00:11\n",
      "   ------------------------------- -------- 2.1/2.6 MB 52.1 kB/s eta 0:00:11\n",
      "   ------------------------------- -------- 2.1/2.6 MB 52.1 kB/s eta 0:00:11\n",
      "   ------------------------------- -------- 2.1/2.6 MB 52.1 kB/s eta 0:00:11\n",
      "   ------------------------------- -------- 2.1/2.6 MB 52.1 kB/s eta 0:00:11\n",
      "   ------------------------------- -------- 2.1/2.6 MB 52.1 kB/s eta 0:00:11\n",
      "   ------------------------------- -------- 2.1/2.6 MB 52.1 kB/s eta 0:00:11\n",
      "   ----------------------------------- ---- 2.4/2.6 MB 51.4 kB/s eta 0:00:06\n",
      "   ----------------------------------- ---- 2.4/2.6 MB 51.4 kB/s eta 0:00:06\n",
      "   ----------------------------------- ---- 2.4/2.6 MB 51.4 kB/s eta 0:00:06\n",
      "   ----------------------------------- ---- 2.4/2.6 MB 51.4 kB/s eta 0:00:06\n",
      "   ----------------------------------- ---- 2.4/2.6 MB 51.4 kB/s eta 0:00:06\n",
      "   ----------------------------------- ---- 2.4/2.6 MB 51.4 kB/s eta 0:00:06\n",
      "   ----------------------------------- ---- 2.4/2.6 MB 51.4 kB/s eta 0:00:06\n",
      "   ----------------------------------- ---- 2.4/2.6 MB 51.4 kB/s eta 0:00:06\n",
      "   ----------------------------------- ---- 2.4/2.6 MB 51.4 kB/s eta 0:00:06\n",
      "   ----------------------------------- ---- 2.4/2.6 MB 51.4 kB/s eta 0:00:06\n",
      "   ----------------------------------- ---- 2.4/2.6 MB 51.4 kB/s eta 0:00:06\n",
      "   ----------------------------------- ---- 2.4/2.6 MB 51.4 kB/s eta 0:00:06\n",
      "   ---------------------------------------- 2.6/2.6 MB 56.3 kB/s eta 0:00:00\n",
      "Installing collected packages: pillow\n",
      "  Attempting uninstall: pillow\n",
      "    Found existing installation: pillow 11.3.0\n",
      "    Uninstalling pillow-11.3.0:\n",
      "      Successfully uninstalled pillow-11.3.0\n",
      "Successfully installed pillow-11.1.0\n"
     ]
    },
    {
     "name": "stderr",
     "output_type": "stream",
     "text": [
      "  WARNING: Failed to remove contents in a temporary directory 'C:\\Users\\Omar Essam2\\AppData\\Roaming\\Python\\Python313\\site-packages\\~-l'.\n",
      "  You can safely remove it manually.\n"
     ]
    },
    {
     "name": "stdout",
     "output_type": "stream",
     "text": [
      "Defaulting to user installation because normal site-packages is not writeable\n",
      "Collecting matplotlib==3.9.2\n",
      "  Downloading matplotlib-3.9.2-cp313-cp313-win_amd64.whl.metadata (11 kB)\n",
      "Requirement already satisfied: contourpy>=1.0.1 in c:\\users\\omar essam2\\appdata\\roaming\\python\\python313\\site-packages (from matplotlib==3.9.2) (1.3.2)\n",
      "Requirement already satisfied: cycler>=0.10 in c:\\users\\omar essam2\\appdata\\roaming\\python\\python313\\site-packages (from matplotlib==3.9.2) (0.12.1)\n",
      "Requirement already satisfied: fonttools>=4.22.0 in c:\\users\\omar essam2\\appdata\\roaming\\python\\python313\\site-packages (from matplotlib==3.9.2) (4.58.0)\n",
      "Requirement already satisfied: kiwisolver>=1.3.1 in c:\\users\\omar essam2\\appdata\\roaming\\python\\python313\\site-packages (from matplotlib==3.9.2) (1.4.8)\n",
      "Requirement already satisfied: numpy>=1.23 in c:\\users\\omar essam2\\appdata\\roaming\\python\\python313\\site-packages (from matplotlib==3.9.2) (2.3.1)\n",
      "Requirement already satisfied: packaging>=20.0 in c:\\users\\omar essam2\\appdata\\roaming\\python\\python313\\site-packages (from matplotlib==3.9.2) (24.2)\n",
      "Requirement already satisfied: pillow>=8 in c:\\users\\omar essam2\\appdata\\roaming\\python\\python313\\site-packages (from matplotlib==3.9.2) (11.1.0)\n",
      "Requirement already satisfied: pyparsing>=2.3.1 in c:\\users\\omar essam2\\appdata\\roaming\\python\\python313\\site-packages (from matplotlib==3.9.2) (3.2.3)\n",
      "Requirement already satisfied: python-dateutil>=2.7 in c:\\users\\omar essam2\\appdata\\roaming\\python\\python313\\site-packages (from matplotlib==3.9.2) (2.9.0.post0)\n",
      "Requirement already satisfied: six>=1.5 in c:\\users\\omar essam2\\appdata\\roaming\\python\\python313\\site-packages (from python-dateutil>=2.7->matplotlib==3.9.2) (1.17.0)\n",
      "Downloading matplotlib-3.9.2-cp313-cp313-win_amd64.whl (7.8 MB)\n",
      "   ---------------------------------------- 0.0/7.8 MB ? eta -:--:--\n",
      "   - -------------------------------------- 0.3/7.8 MB ? eta -:--:--\n",
      "   - -------------------------------------- 0.3/7.8 MB ? eta -:--:--\n",
      "   - -------------------------------------- 0.3/7.8 MB ? eta -:--:--\n",
      "   - -------------------------------------- 0.3/7.8 MB ? eta -:--:--\n",
      "   - -------------------------------------- 0.3/7.8 MB ? eta -:--:--\n",
      "   -- ------------------------------------- 0.5/7.8 MB 250.0 kB/s eta 0:00:30\n",
      "   -- ------------------------------------- 0.5/7.8 MB 250.0 kB/s eta 0:00:30\n",
      "   -- ------------------------------------- 0.5/7.8 MB 250.0 kB/s eta 0:00:30\n",
      "   -- ------------------------------------- 0.5/7.8 MB 250.0 kB/s eta 0:00:30\n",
      "   -- ------------------------------------- 0.5/7.8 MB 250.0 kB/s eta 0:00:30\n",
      "   ---- ----------------------------------- 0.8/7.8 MB 260.9 kB/s eta 0:00:28\n",
      "   ----- ---------------------------------- 1.0/7.8 MB 343.5 kB/s eta 0:00:20\n",
      "   ----- ---------------------------------- 1.0/7.8 MB 343.5 kB/s eta 0:00:20\n",
      "   ----- ---------------------------------- 1.0/7.8 MB 343.5 kB/s eta 0:00:20\n",
      "   ----- ---------------------------------- 1.0/7.8 MB 343.5 kB/s eta 0:00:20\n",
      "   ----- ---------------------------------- 1.0/7.8 MB 343.5 kB/s eta 0:00:20\n",
      "   ------ --------------------------------- 1.3/7.8 MB 318.4 kB/s eta 0:00:21\n",
      "   ------ --------------------------------- 1.3/7.8 MB 318.4 kB/s eta 0:00:21\n",
      "   ------ --------------------------------- 1.3/7.8 MB 318.4 kB/s eta 0:00:21\n",
      "   ------ --------------------------------- 1.3/7.8 MB 318.4 kB/s eta 0:00:21\n",
      "   -------- ------------------------------- 1.6/7.8 MB 326.0 kB/s eta 0:00:20\n",
      "   -------- ------------------------------- 1.6/7.8 MB 326.0 kB/s eta 0:00:20\n",
      "   -------- ------------------------------- 1.6/7.8 MB 326.0 kB/s eta 0:00:20\n",
      "   -------- ------------------------------- 1.6/7.8 MB 326.0 kB/s eta 0:00:20\n",
      "   --------- ------------------------------ 1.8/7.8 MB 328.1 kB/s eta 0:00:19\n",
      "   --------- ------------------------------ 1.8/7.8 MB 328.1 kB/s eta 0:00:19\n",
      "   ---------- ----------------------------- 2.1/7.8 MB 355.5 kB/s eta 0:00:17\n",
      "   ---------- ----------------------------- 2.1/7.8 MB 355.5 kB/s eta 0:00:17\n",
      "   ---------- ----------------------------- 2.1/7.8 MB 355.5 kB/s eta 0:00:17\n",
      "   ---------- ----------------------------- 2.1/7.8 MB 355.5 kB/s eta 0:00:17\n",
      "   ---------- ----------------------------- 2.1/7.8 MB 355.5 kB/s eta 0:00:17\n",
      "   ------------ --------------------------- 2.4/7.8 MB 338.2 kB/s eta 0:00:17\n",
      "   ------------ --------------------------- 2.4/7.8 MB 338.2 kB/s eta 0:00:17\n",
      "   ------------ --------------------------- 2.4/7.8 MB 338.2 kB/s eta 0:00:17\n",
      "   ------------ --------------------------- 2.4/7.8 MB 338.2 kB/s eta 0:00:17\n",
      "   ------------ --------------------------- 2.4/7.8 MB 338.2 kB/s eta 0:00:17\n",
      "   ------------- -------------------------- 2.6/7.8 MB 324.5 kB/s eta 0:00:17\n",
      "   -------------- ------------------------- 2.9/7.8 MB 344.1 kB/s eta 0:00:15\n",
      "   -------------- ------------------------- 2.9/7.8 MB 344.1 kB/s eta 0:00:15\n",
      "   ---------------- ----------------------- 3.1/7.8 MB 363.9 kB/s eta 0:00:13\n",
      "   ---------------- ----------------------- 3.1/7.8 MB 363.9 kB/s eta 0:00:13\n",
      "   ---------------- ----------------------- 3.1/7.8 MB 363.9 kB/s eta 0:00:13\n",
      "   ---------------- ----------------------- 3.1/7.8 MB 363.9 kB/s eta 0:00:13\n",
      "   ---------------- ----------------------- 3.1/7.8 MB 363.9 kB/s eta 0:00:13\n",
      "   ----------------- ---------------------- 3.4/7.8 MB 348.9 kB/s eta 0:00:13\n",
      "   ----------------- ---------------------- 3.4/7.8 MB 348.9 kB/s eta 0:00:13\n",
      "   ----------------- ---------------------- 3.4/7.8 MB 348.9 kB/s eta 0:00:13\n",
      "   ----------------- ---------------------- 3.4/7.8 MB 348.9 kB/s eta 0:00:13\n",
      "   ------------------ --------------------- 3.7/7.8 MB 347.5 kB/s eta 0:00:12\n",
      "   ------------------ --------------------- 3.7/7.8 MB 347.5 kB/s eta 0:00:12\n",
      "   ------------------ --------------------- 3.7/7.8 MB 347.5 kB/s eta 0:00:12\n",
      "   -------------------- ------------------- 3.9/7.8 MB 354.6 kB/s eta 0:00:12\n",
      "   -------------------- ------------------- 3.9/7.8 MB 354.6 kB/s eta 0:00:12\n",
      "   --------------------- ------------------ 4.2/7.8 MB 361.1 kB/s eta 0:00:11\n",
      "   --------------------- ------------------ 4.2/7.8 MB 361.1 kB/s eta 0:00:11\n",
      "   ---------------------- ----------------- 4.5/7.8 MB 370.7 kB/s eta 0:00:10\n",
      "   ---------------------- ----------------- 4.5/7.8 MB 370.7 kB/s eta 0:00:10\n",
      "   ------------------------ --------------- 4.7/7.8 MB 382.0 kB/s eta 0:00:09\n",
      "   ------------------------ --------------- 4.7/7.8 MB 382.0 kB/s eta 0:00:09\n",
      "   ------------------------ --------------- 4.7/7.8 MB 382.0 kB/s eta 0:00:09\n",
      "   ------------------------ --------------- 4.7/7.8 MB 382.0 kB/s eta 0:00:09\n",
      "   ------------------------- -------------- 5.0/7.8 MB 378.5 kB/s eta 0:00:08\n",
      "   ------------------------- -------------- 5.0/7.8 MB 378.5 kB/s eta 0:00:08\n",
      "   -------------------------- ------------- 5.2/7.8 MB 384.5 kB/s eta 0:00:07\n",
      "   -------------------------- ------------- 5.2/7.8 MB 384.5 kB/s eta 0:00:07\n",
      "   -------------------------- ------------- 5.2/7.8 MB 384.5 kB/s eta 0:00:07\n",
      "   ---------------------------- ----------- 5.5/7.8 MB 389.1 kB/s eta 0:00:06\n",
      "   ---------------------------- ----------- 5.5/7.8 MB 389.1 kB/s eta 0:00:06\n",
      "   ----------------------------- ---------- 5.8/7.8 MB 392.2 kB/s eta 0:00:06\n",
      "   ----------------------------- ---------- 5.8/7.8 MB 392.2 kB/s eta 0:00:06\n",
      "   ----------------------------- ---------- 5.8/7.8 MB 392.2 kB/s eta 0:00:06\n",
      "   ------------------------------ --------- 6.0/7.8 MB 397.0 kB/s eta 0:00:05\n",
      "   ------------------------------ --------- 6.0/7.8 MB 397.0 kB/s eta 0:00:05\n",
      "   -------------------------------- ------- 6.3/7.8 MB 401.1 kB/s eta 0:00:04\n",
      "   -------------------------------- ------- 6.3/7.8 MB 401.1 kB/s eta 0:00:04\n",
      "   -------------------------------- ------- 6.3/7.8 MB 401.1 kB/s eta 0:00:04\n",
      "   --------------------------------- ------ 6.6/7.8 MB 403.9 kB/s eta 0:00:04\n",
      "   --------------------------------- ------ 6.6/7.8 MB 403.9 kB/s eta 0:00:04\n",
      "   ---------------------------------- ----- 6.8/7.8 MB 407.9 kB/s eta 0:00:03\n",
      "   ---------------------------------- ----- 6.8/7.8 MB 407.9 kB/s eta 0:00:03\n",
      "   ---------------------------------- ----- 6.8/7.8 MB 407.9 kB/s eta 0:00:03\n",
      "   ------------------------------------ --- 7.1/7.8 MB 411.5 kB/s eta 0:00:02\n",
      "   ------------------------------------ --- 7.1/7.8 MB 411.5 kB/s eta 0:00:02\n",
      "   ------------------------------------- -- 7.3/7.8 MB 414.2 kB/s eta 0:00:02\n",
      "   ------------------------------------- -- 7.3/7.8 MB 414.2 kB/s eta 0:00:02\n",
      "   ------------------------------------- -- 7.3/7.8 MB 414.2 kB/s eta 0:00:02\n",
      "   -------------------------------------- - 7.6/7.8 MB 417.9 kB/s eta 0:00:01\n",
      "   ---------------------------------------- 7.8/7.8 MB 421.6 kB/s eta 0:00:00\n",
      "Installing collected packages: matplotlib\n",
      "  Attempting uninstall: matplotlib\n",
      "    Found existing installation: matplotlib 3.10.3\n",
      "    Uninstalling matplotlib-3.10.3:\n",
      "      Successfully uninstalled matplotlib-3.10.3\n",
      "Successfully installed matplotlib-3.9.2\n",
      "Defaulting to user installation because normal site-packages is not writeable\n",
      "Collecting transformers==4.38.2\n",
      "  Downloading transformers-4.38.2-py3-none-any.whl.metadata (130 kB)\n",
      "Requirement already satisfied: filelock in c:\\users\\omar essam2\\appdata\\roaming\\python\\python313\\site-packages (from transformers==4.38.2) (3.18.0)\n",
      "Requirement already satisfied: huggingface-hub<1.0,>=0.19.3 in c:\\users\\omar essam2\\appdata\\roaming\\python\\python313\\site-packages (from transformers==4.38.2) (0.31.2)\n",
      "Requirement already satisfied: numpy>=1.17 in c:\\users\\omar essam2\\appdata\\roaming\\python\\python313\\site-packages (from transformers==4.38.2) (2.3.1)\n",
      "Requirement already satisfied: packaging>=20.0 in c:\\users\\omar essam2\\appdata\\roaming\\python\\python313\\site-packages (from transformers==4.38.2) (24.2)\n",
      "Requirement already satisfied: pyyaml>=5.1 in c:\\users\\omar essam2\\appdata\\roaming\\python\\python313\\site-packages (from transformers==4.38.2) (6.0.2)\n",
      "Requirement already satisfied: regex!=2019.12.17 in c:\\users\\omar essam2\\appdata\\roaming\\python\\python313\\site-packages (from transformers==4.38.2) (2024.11.6)\n",
      "Requirement already satisfied: requests in c:\\users\\omar essam2\\appdata\\roaming\\python\\python313\\site-packages (from transformers==4.38.2) (2.32.3)\n",
      "Collecting tokenizers<0.19,>=0.14 (from transformers==4.38.2)\n",
      "  Downloading tokenizers-0.15.2.tar.gz (320 kB)\n",
      "  Installing build dependencies: started\n",
      "  Installing build dependencies: finished with status 'done'\n",
      "  Getting requirements to build wheel: started\n",
      "  Getting requirements to build wheel: finished with status 'done'\n",
      "  Installing backend dependencies: started\n",
      "  Installing backend dependencies: finished with status 'done'\n",
      "  Preparing metadata (pyproject.toml): started\n",
      "  Preparing metadata (pyproject.toml): finished with status 'error'\n"
     ]
    },
    {
     "name": "stderr",
     "output_type": "stream",
     "text": [
      "  error: subprocess-exited-with-error\n",
      "  \n",
      "  × Preparing metadata (pyproject.toml) did not run successfully.\n",
      "  │ exit code: 1\n",
      "  ╰─> [91 lines of output]\n",
      "      Checking for Rust toolchain....\n",
      "      Rust not found, installing into a temporary directory\n",
      "      Python reports SOABI: cp313-win_amd64\n",
      "      Computed rustc target triple: x86_64-pc-windows-msvc\n",
      "      Installation directory: C:\\Users\\Omar Essam2\\AppData\\Local\\puccinialin\\puccinialin\\Cache\n",
      "      Downloading rustup-init from https://static.rust-lang.org/rustup/dist/x86_64-pc-windows-msvc/rustup-init.exe\n",
      "      Traceback (most recent call last):\n",
      "        File \u001b[35m\"C:\\Users\\Omar Essam2\\AppData\\Local\\Temp\\pip-build-env-r0591t3a\\normal\\Lib\\site-packages\\httpx\\_transports\\default.py\"\u001b[0m, line \u001b[35m101\u001b[0m, in \u001b[35mmap_httpcore_exceptions\u001b[0m\n",
      "          yield\n",
      "        File \u001b[35m\"C:\\Users\\Omar Essam2\\AppData\\Local\\Temp\\pip-build-env-r0591t3a\\normal\\Lib\\site-packages\\httpx\\_transports\\default.py\"\u001b[0m, line \u001b[35m250\u001b[0m, in \u001b[35mhandle_request\u001b[0m\n",
      "          resp = self._pool.handle_request(req)\n",
      "        File \u001b[35m\"C:\\Users\\Omar Essam2\\AppData\\Local\\Temp\\pip-build-env-r0591t3a\\normal\\Lib\\site-packages\\httpcore\\_sync\\connection_pool.py\"\u001b[0m, line \u001b[35m256\u001b[0m, in \u001b[35mhandle_request\u001b[0m\n",
      "          raise exc from None\n",
      "        File \u001b[35m\"C:\\Users\\Omar Essam2\\AppData\\Local\\Temp\\pip-build-env-r0591t3a\\normal\\Lib\\site-packages\\httpcore\\_sync\\connection_pool.py\"\u001b[0m, line \u001b[35m236\u001b[0m, in \u001b[35mhandle_request\u001b[0m\n",
      "          response = connection.handle_request(\n",
      "              pool_request.request\n",
      "          )\n",
      "        File \u001b[35m\"C:\\Users\\Omar Essam2\\AppData\\Local\\Temp\\pip-build-env-r0591t3a\\normal\\Lib\\site-packages\\httpcore\\_sync\\connection.py\"\u001b[0m, line \u001b[35m101\u001b[0m, in \u001b[35mhandle_request\u001b[0m\n",
      "          raise exc\n",
      "        File \u001b[35m\"C:\\Users\\Omar Essam2\\AppData\\Local\\Temp\\pip-build-env-r0591t3a\\normal\\Lib\\site-packages\\httpcore\\_sync\\connection.py\"\u001b[0m, line \u001b[35m78\u001b[0m, in \u001b[35mhandle_request\u001b[0m\n",
      "          stream = self._connect(request)\n",
      "        File \u001b[35m\"C:\\Users\\Omar Essam2\\AppData\\Local\\Temp\\pip-build-env-r0591t3a\\normal\\Lib\\site-packages\\httpcore\\_sync\\connection.py\"\u001b[0m, line \u001b[35m156\u001b[0m, in \u001b[35m_connect\u001b[0m\n",
      "          stream = stream.start_tls(**kwargs)\n",
      "        File \u001b[35m\"C:\\Users\\Omar Essam2\\AppData\\Local\\Temp\\pip-build-env-r0591t3a\\normal\\Lib\\site-packages\\httpcore\\_backends\\sync.py\"\u001b[0m, line \u001b[35m154\u001b[0m, in \u001b[35mstart_tls\u001b[0m\n",
      "          with \u001b[31mmap_exceptions\u001b[0m\u001b[1;31m(exc_map)\u001b[0m:\n",
      "               \u001b[31m~~~~~~~~~~~~~~\u001b[0m\u001b[1;31m^^^^^^^^^\u001b[0m\n",
      "        File \u001b[35m\"C:\\Python313\\Lib\\contextlib.py\"\u001b[0m, line \u001b[35m162\u001b[0m, in \u001b[35m__exit__\u001b[0m\n",
      "          \u001b[31mself.gen.throw\u001b[0m\u001b[1;31m(value)\u001b[0m\n",
      "          \u001b[31m~~~~~~~~~~~~~~\u001b[0m\u001b[1;31m^^^^^^^\u001b[0m\n",
      "        File \u001b[35m\"C:\\Users\\Omar Essam2\\AppData\\Local\\Temp\\pip-build-env-r0591t3a\\normal\\Lib\\site-packages\\httpcore\\_exceptions.py\"\u001b[0m, line \u001b[35m14\u001b[0m, in \u001b[35mmap_exceptions\u001b[0m\n",
      "          raise to_exc(exc) from exc\n",
      "      \u001b[1;35mhttpcore.ConnectError\u001b[0m: \u001b[35m[SSL: CERTIFICATE_VERIFY_FAILED] certificate verify failed: self-signed certificate in certificate chain (_ssl.c:1028)\u001b[0m\n",
      "      \n",
      "      The above exception was the direct cause of the following exception:\n",
      "      \n",
      "      Traceback (most recent call last):\n",
      "        File \u001b[35m\"C:\\Python313\\Lib\\site-packages\\pip\\_vendor\\pyproject_hooks\\_in_process\\_in_process.py\"\u001b[0m, line \u001b[35m389\u001b[0m, in \u001b[35m<module>\u001b[0m\n",
      "          \u001b[31mmain\u001b[0m\u001b[1;31m()\u001b[0m\n",
      "          \u001b[31m~~~~\u001b[0m\u001b[1;31m^^\u001b[0m\n",
      "        File \u001b[35m\"C:\\Python313\\Lib\\site-packages\\pip\\_vendor\\pyproject_hooks\\_in_process\\_in_process.py\"\u001b[0m, line \u001b[35m373\u001b[0m, in \u001b[35mmain\u001b[0m\n",
      "          json_out[\"return_val\"] = \u001b[31mhook\u001b[0m\u001b[1;31m(**hook_input[\"kwargs\"])\u001b[0m\n",
      "                                   \u001b[31m~~~~\u001b[0m\u001b[1;31m^^^^^^^^^^^^^^^^^^^^^^^^\u001b[0m\n",
      "        File \u001b[35m\"C:\\Python313\\Lib\\site-packages\\pip\\_vendor\\pyproject_hooks\\_in_process\\_in_process.py\"\u001b[0m, line \u001b[35m175\u001b[0m, in \u001b[35mprepare_metadata_for_build_wheel\u001b[0m\n",
      "          return hook(metadata_directory, config_settings)\n",
      "        File \u001b[35m\"C:\\Users\\Omar Essam2\\AppData\\Local\\Temp\\pip-build-env-r0591t3a\\overlay\\Lib\\site-packages\\maturin\\__init__.py\"\u001b[0m, line \u001b[35m191\u001b[0m, in \u001b[35mprepare_metadata_for_build_wheel\u001b[0m\n",
      "          output = subprocess.check_output([\"cargo\", \"--version\"], env=\u001b[31m_get_env\u001b[0m\u001b[1;31m()\u001b[0m).decode(\"utf-8\", \"ignore\")\n",
      "                                                                       \u001b[31m~~~~~~~~\u001b[0m\u001b[1;31m^^\u001b[0m\n",
      "        File \u001b[35m\"C:\\Users\\Omar Essam2\\AppData\\Local\\Temp\\pip-build-env-r0591t3a\\overlay\\Lib\\site-packages\\maturin\\__init__.py\"\u001b[0m, line \u001b[35m76\u001b[0m, in \u001b[35m_get_env\u001b[0m\n",
      "          extra_env = setup_rust()\n",
      "        File \u001b[35m\"C:\\Users\\Omar Essam2\\AppData\\Local\\Temp\\pip-build-env-r0591t3a\\normal\\Lib\\site-packages\\puccinialin\\_setup_rust.py\"\u001b[0m, line \u001b[35m121\u001b[0m, in \u001b[35msetup_rust\u001b[0m\n",
      "          rustup_init = download_rustup(url, rustup_init, target, file)\n",
      "        File \u001b[35m\"C:\\Users\\Omar Essam2\\AppData\\Local\\Temp\\pip-build-env-r0591t3a\\normal\\Lib\\site-packages\\puccinialin\\_setup_rust.py\"\u001b[0m, line \u001b[35m31\u001b[0m, in \u001b[35mdownload_rustup\u001b[0m\n",
      "          response = client.head(url)\n",
      "        File \u001b[35m\"C:\\Users\\Omar Essam2\\AppData\\Local\\Temp\\pip-build-env-r0591t3a\\normal\\Lib\\site-packages\\httpx\\_client.py\"\u001b[0m, line \u001b[35m1111\u001b[0m, in \u001b[35mhead\u001b[0m\n",
      "          return \u001b[31mself.request\u001b[0m\u001b[1;31m(\u001b[0m\n",
      "                 \u001b[31m~~~~~~~~~~~~\u001b[0m\u001b[1;31m^\u001b[0m\n",
      "              \u001b[1;31m\"HEAD\",\u001b[0m\n",
      "              \u001b[1;31m^^^^^^^\u001b[0m\n",
      "          ...<7 lines>...\n",
      "              \u001b[1;31mextensions=extensions,\u001b[0m\n",
      "              \u001b[1;31m^^^^^^^^^^^^^^^^^^^^^^\u001b[0m\n",
      "          \u001b[1;31m)\u001b[0m\n",
      "          \u001b[1;31m^\u001b[0m\n",
      "        File \u001b[35m\"C:\\Users\\Omar Essam2\\AppData\\Local\\Temp\\pip-build-env-r0591t3a\\normal\\Lib\\site-packages\\httpx\\_client.py\"\u001b[0m, line \u001b[35m825\u001b[0m, in \u001b[35mrequest\u001b[0m\n",
      "          return \u001b[31mself.send\u001b[0m\u001b[1;31m(request, auth=auth, follow_redirects=follow_redirects)\u001b[0m\n",
      "                 \u001b[31m~~~~~~~~~\u001b[0m\u001b[1;31m^^^^^^^^^^^^^^^^^^^^^^^^^^^^^^^^^^^^^^^^^^^^^^^^^^^^^^^\u001b[0m\n",
      "        File \u001b[35m\"C:\\Users\\Omar Essam2\\AppData\\Local\\Temp\\pip-build-env-r0591t3a\\normal\\Lib\\site-packages\\httpx\\_client.py\"\u001b[0m, line \u001b[35m914\u001b[0m, in \u001b[35msend\u001b[0m\n",
      "          response = self._send_handling_auth(\n",
      "              request,\n",
      "          ...<2 lines>...\n",
      "              history=[],\n",
      "          )\n",
      "        File \u001b[35m\"C:\\Users\\Omar Essam2\\AppData\\Local\\Temp\\pip-build-env-r0591t3a\\normal\\Lib\\site-packages\\httpx\\_client.py\"\u001b[0m, line \u001b[35m942\u001b[0m, in \u001b[35m_send_handling_auth\u001b[0m\n",
      "          response = self._send_handling_redirects(\n",
      "              request,\n",
      "              follow_redirects=follow_redirects,\n",
      "              history=history,\n",
      "          )\n",
      "        File \u001b[35m\"C:\\Users\\Omar Essam2\\AppData\\Local\\Temp\\pip-build-env-r0591t3a\\normal\\Lib\\site-packages\\httpx\\_client.py\"\u001b[0m, line \u001b[35m979\u001b[0m, in \u001b[35m_send_handling_redirects\u001b[0m\n",
      "          response = self._send_single_request(request)\n",
      "        File \u001b[35m\"C:\\Users\\Omar Essam2\\AppData\\Local\\Temp\\pip-build-env-r0591t3a\\normal\\Lib\\site-packages\\httpx\\_client.py\"\u001b[0m, line \u001b[35m1014\u001b[0m, in \u001b[35m_send_single_request\u001b[0m\n",
      "          response = transport.handle_request(request)\n",
      "        File \u001b[35m\"C:\\Users\\Omar Essam2\\AppData\\Local\\Temp\\pip-build-env-r0591t3a\\normal\\Lib\\site-packages\\httpx\\_transports\\default.py\"\u001b[0m, line \u001b[35m249\u001b[0m, in \u001b[35mhandle_request\u001b[0m\n",
      "          with \u001b[31mmap_httpcore_exceptions\u001b[0m\u001b[1;31m()\u001b[0m:\n",
      "               \u001b[31m~~~~~~~~~~~~~~~~~~~~~~~\u001b[0m\u001b[1;31m^^\u001b[0m\n",
      "        File \u001b[35m\"C:\\Python313\\Lib\\contextlib.py\"\u001b[0m, line \u001b[35m162\u001b[0m, in \u001b[35m__exit__\u001b[0m\n",
      "          \u001b[31mself.gen.throw\u001b[0m\u001b[1;31m(value)\u001b[0m\n",
      "          \u001b[31m~~~~~~~~~~~~~~\u001b[0m\u001b[1;31m^^^^^^^\u001b[0m\n",
      "        File \u001b[35m\"C:\\Users\\Omar Essam2\\AppData\\Local\\Temp\\pip-build-env-r0591t3a\\normal\\Lib\\site-packages\\httpx\\_transports\\default.py\"\u001b[0m, line \u001b[35m118\u001b[0m, in \u001b[35mmap_httpcore_exceptions\u001b[0m\n",
      "          raise mapped_exc(message) from exc\n",
      "      \u001b[1;35mhttpx.ConnectError\u001b[0m: \u001b[35m[SSL: CERTIFICATE_VERIFY_FAILED] certificate verify failed: self-signed certificate in certificate chain (_ssl.c:1028)\u001b[0m\n",
      "      [end of output]\n",
      "  \n",
      "  note: This error originates from a subprocess, and is likely not a problem with pip.\n",
      "error: metadata-generation-failed\n",
      "\n",
      "× Encountered error while generating package metadata.\n",
      "╰─> See above for output.\n",
      "\n",
      "note: This is an issue with the package mentioned above, not pip.\n",
      "hint: See above for details.\n"
     ]
    },
    {
     "name": "stdout",
     "output_type": "stream",
     "text": [
      "Defaulting to user installation because normal site-packages is not writeable\n",
      "Requirement already satisfied: torch in c:\\users\\omar essam2\\appdata\\roaming\\python\\python313\\site-packages (2.7.1)\n",
      "Requirement already satisfied: filelock in c:\\users\\omar essam2\\appdata\\roaming\\python\\python313\\site-packages (from torch) (3.18.0)\n",
      "Requirement already satisfied: typing-extensions>=4.10.0 in c:\\users\\omar essam2\\appdata\\roaming\\python\\python313\\site-packages (from torch) (4.13.2)\n",
      "Requirement already satisfied: sympy>=1.13.3 in c:\\users\\omar essam2\\appdata\\roaming\\python\\python313\\site-packages (from torch) (1.14.0)\n",
      "Requirement already satisfied: networkx in c:\\users\\omar essam2\\appdata\\roaming\\python\\python313\\site-packages (from torch) (3.5)\n",
      "Requirement already satisfied: jinja2 in c:\\users\\omar essam2\\appdata\\roaming\\python\\python313\\site-packages (from torch) (3.1.6)\n",
      "Requirement already satisfied: fsspec in c:\\users\\omar essam2\\appdata\\roaming\\python\\python313\\site-packages (from torch) (2025.3.0)\n",
      "Requirement already satisfied: setuptools in c:\\users\\omar essam2\\appdata\\roaming\\python\\python313\\site-packages (from torch) (80.9.0)\n",
      "Requirement already satisfied: mpmath<1.4,>=1.1.0 in c:\\users\\omar essam2\\appdata\\roaming\\python\\python313\\site-packages (from sympy>=1.13.3->torch) (1.3.0)\n",
      "Requirement already satisfied: MarkupSafe>=2.0 in c:\\users\\omar essam2\\appdata\\roaming\\python\\python313\\site-packages (from jinja2->torch) (3.0.2)\n"
     ]
    }
   ],
   "source": [
    "!pip install pandas==2.2.3\n",
    "!pip install tensorflow==2.17.1\n",
    "!pip install pillow==11.1.0\n",
    "!pip install matplotlib==3.9.2\n",
    "!pip install transformers==4.38.2\n",
    "!pip install torch"
   ]
  },
  {
   "cell_type": "markdown",
   "id": "26406dd5-ccf2-4e33-9a0e-244d9fd8343b",
   "metadata": {},
   "source": [
    "#### Suppress the tensorflow warning messages\n",
    "We use the following code to  suppress the warning messages due to use of CPU architechture for tensoflow.\n",
    "\n",
    "You may want to **comment out** these lines if you are using the GPU architechture\n"
   ]
  },
  {
   "cell_type": "code",
   "execution_count": 3,
   "id": "98112db6-d4b6-4c69-b348-3f4fc534867d",
   "metadata": {},
   "outputs": [],
   "source": [
    "import os\n",
    "os.environ['TF_ENABLE_ONEDNN_OPTS'] = '0'\n",
    "os.environ['TF_CPP_MIN_LOG_LEVEL'] = '2'"
   ]
  },
  {
   "cell_type": "markdown",
   "id": "307729e8-8a3d-4196-be2d-61f542234332",
   "metadata": {},
   "source": [
    "### Importing Required Libraries\n"
   ]
  },
  {
   "cell_type": "code",
   "execution_count": 4,
   "id": "e13bcd0f-c9e8-4919-9537-b879bb99489b",
   "metadata": {},
   "outputs": [
    {
     "ename": "ModuleNotFoundError",
     "evalue": "No module named 'keras'",
     "output_type": "error",
     "traceback": [
      "\u001b[31m---------------------------------------------------------------------------\u001b[39m",
      "\u001b[31mModuleNotFoundError\u001b[39m                       Traceback (most recent call last)",
      "\u001b[36mCell\u001b[39m\u001b[36m \u001b[39m\u001b[32mIn[4]\u001b[39m\u001b[32m, line 2\u001b[39m\n\u001b[32m      1\u001b[39m \u001b[38;5;28;01mimport\u001b[39;00m\u001b[38;5;250m \u001b[39m\u001b[34;01mzipfile\u001b[39;00m\n\u001b[32m----> \u001b[39m\u001b[32m2\u001b[39m \u001b[38;5;28;01mimport\u001b[39;00m\u001b[38;5;250m \u001b[39m\u001b[34;01mkeras\u001b[39;00m\n\u001b[32m      3\u001b[39m \u001b[38;5;28;01mfrom\u001b[39;00m\u001b[38;5;250m \u001b[39m\u001b[34;01mkeras\u001b[39;00m\u001b[34;01m.\u001b[39;00m\u001b[34;01mmodels\u001b[39;00m\u001b[38;5;250m \u001b[39m\u001b[38;5;28;01mimport\u001b[39;00m Sequential, Model\n\u001b[32m      4\u001b[39m \u001b[38;5;28;01mfrom\u001b[39;00m\u001b[38;5;250m \u001b[39m\u001b[34;01mkeras\u001b[39;00m\u001b[34;01m.\u001b[39;00m\u001b[34;01mlayers\u001b[39;00m\u001b[38;5;250m \u001b[39m\u001b[38;5;28;01mimport\u001b[39;00m Dense, Dropout, Flatten\n",
      "\u001b[31mModuleNotFoundError\u001b[39m: No module named 'keras'"
     ]
    }
   ],
   "source": [
    "import zipfile\n",
    "import keras\n",
    "from keras.models import Sequential, Model\n",
    "from keras.layers import Dense, Dropout, Flatten\n",
    "from keras.applications import VGG16\n",
    "from keras.optimizers import Adam\n",
    "import tensorflow as tf\n",
    "from tensorflow.keras.preprocessing.image import ImageDataGenerator\n",
    "import matplotlib.pyplot as plt\n",
    "import numpy as np\n",
    "from keras.preprocessing import image\n",
    "import random"
   ]
  },
  {
   "cell_type": "code",
   "execution_count": null,
   "id": "cb41ca5e-c55b-4f14-94f7-0e8ab508ecd9",
   "metadata": {},
   "outputs": [],
   "source": [
    "# Set seed for reproducibility\n",
    "seed_value = 42\n",
    "random.seed(seed_value)\n",
    "np.random.seed(seed_value)\n",
    "tf.random.set_seed(seed_value)"
   ]
  },
  {
   "cell_type": "markdown",
   "id": "1b0eeb8b-7366-4312-b170-4b33be9922cc",
   "metadata": {},
   "source": [
    "#### Pretrained Model\n",
    "\n",
    "A pretrained model refers to a machine learning model that has already been trained on a large dataset, typically for a specific task, and is ready for use or fine-tuning on a new task or dataset. The key idea behind a pretrained model is that it has already learned useful patterns or features from the data it was trained on, so you don’t need to start from scratch.\n",
    "\n",
    "- **ResNet, VGG (Image Classification):** These are pretrained models commonly used for image classification tasks. They have learned from millions of images and can be fine-tuned for specific image-related tasks.\n",
    "\n",
    "- **BLIP (Image Captioning and Summarization):** BLIP is a pretrained model that can generate captions and summaries for images. It has already been trained on image-text pairs, so it can easily generate descriptive captions for new images.\n"
   ]
  },
  {
   "cell_type": "markdown",
   "id": "d68e2c8a-72cc-453e-b2d6-897310515e06",
   "metadata": {},
   "source": [
    "## <a id='toc1_'> </a> [Part 1 - Classification Problem: Classifying the defect on the aircraft as 'dent' or 'crack'](#toc1_) \n",
    "\n",
    "### <a id='toc1_1_'></a> [1.1 Dataset Preparation](#toc1_) \n",
    "\n",
    "The first step is to load and prepare the dataset of aircraft images. These images are labeled either as 'dent' or 'crack'. We will also split the dataset into training, validation, and test sets.\n",
    "\n",
    "Your goal is to train an algorithm on these images and to predict the labels for images in your test set.\n",
    "\n",
    "\n"
   ]
  },
  {
   "cell_type": "markdown",
   "id": "40069677-2a92-44eb-aef7-1f87dae5e51e",
   "metadata": {},
   "source": [
    "**Define configuration options**\n",
    "\n",
    "It's time to define some model configuration options.\n",
    "\n",
    "*  Set the **batch size** is set to 32.\n",
    "*  Set the **number of epcohs** is 5.\n"
   ]
  },
  {
   "cell_type": "code",
   "execution_count": null,
   "id": "c19c43ef-8ce1-4b88-abda-e9cdf7317467",
   "metadata": {},
   "outputs": [],
   "source": [
    "#Set the batch size,epochs\n",
    "batch_size = \n",
    "n_epochs = \n",
    "img_rows, img_cols = 224, 224\n",
    "input_shape = (img_rows, img_cols, 3)"
   ]
  },
  {
   "cell_type": "markdown",
   "id": "81b68bba-365b-403d-accc-ce29931f2a98",
   "metadata": {},
   "source": [
    "Extract the Dataset:\n",
    "Unzip the dataset to the current directory, creating directories for training, testing, and validation splits.\n"
   ]
  },
  {
   "cell_type": "code",
   "execution_count": null,
   "id": "8ad77074-bd80-4bd3-9f57-d5e386b03713",
   "metadata": {},
   "outputs": [],
   "source": [
    "import tarfile\n",
    "import urllib.request\n",
    "import os\n",
    "import shutil\n",
    "\n",
    "# URL of the tar file\n",
    "url = \"https://cf-courses-data.s3.us.cloud-object-storage.appdomain.cloud/ZjXM4RKxlBK9__ZjHBLl5A/aircraft-damage-dataset-v1.tar\"\n",
    "\n",
    "# Define the path to save the file\n",
    "tar_filename = \"aircraft_damage_dataset_v1.tar\"\n",
    "extracted_folder = \"aircraft_damage_dataset_v1\"  # Folder where contents will be extracted\n",
    "\n",
    "# Download the tar file\n",
    "urllib.request.urlretrieve(url, tar_filename)\n",
    "print(f\"Downloaded {tar_filename}. Extraction will begin now.\")\n",
    "\n",
    "# Check if the folder already exists\n",
    "if os.path.exists(extracted_folder):\n",
    "    print(f\"The folder '{extracted_folder}' already exists. Removing the existing folder.\")\n",
    "    \n",
    "    # Remove the existing folder to avoid overwriting or duplication\n",
    "    shutil.rmtree(extracted_folder)\n",
    "    print(f\"Removed the existing folder: {extracted_folder}\")\n",
    "\n",
    "# Extract the contents of the tar file\n",
    "with tarfile.open(tar_filename, \"r\") as tar_ref:\n",
    "    tar_ref.extractall()  # This will extract to the current directory\n",
    "    print(f\"Extracted {tar_filename} successfully.\")\n"
   ]
  },
  {
   "cell_type": "markdown",
   "id": "fd20c128-0937-4922-a79d-c8e8baed7e2a",
   "metadata": {},
   "source": [
    "The folder structure looks as follows:\n",
    "\n",
    "```python\n",
    "aircraft_damage_dataset_v1/\n",
    "├── train/\n",
    "│   ├── dent/\n",
    "│   └── crack/\n",
    "├── valid/\n",
    "│   ├── dent/\n",
    "│   └── crack/\n",
    "└── test/\n",
    "    ├── dent/\n",
    "    └── crack/\n",
    "\n",
    "```\n",
    "\n"
   ]
  },
  {
   "cell_type": "code",
   "execution_count": null,
   "id": "1d931d76-5f78-4dd1-aaa8-6ec9c0ba1219",
   "metadata": {},
   "outputs": [],
   "source": [
    "# Define directories for train, test, and validation splits\n",
    "extract_path = \"aircraft_damage_dataset_v1\"\n",
    "train_dir = os.path.join(extract_path, 'train')\n",
    "test_dir = os.path.join(extract_path, 'test')\n",
    "valid_dir = os.path.join(extract_path, 'valid')"
   ]
  },
  {
   "cell_type": "markdown",
   "id": "8d2e6f35-a2ba-4716-8ffe-e8965c31df98",
   "metadata": {},
   "source": [
    "## 1.2 Data Preprocessing\n",
    "\n",
    "Create data generators for training, validation, and testing datasets.\n",
    "\n",
    "First,we will create ImageDataGenerators used for training, validation and testing.\n",
    "The ImageDataGenerator class is part of Keras. It is a powerful utility for real-time image data augmentation, preprocessing, and feeding data into deep learning models during training. This class is particularly useful when working with image datasets that are too large to fit into memory all at once, or when you want to augment your dataset  to improve model generalization. \n",
    "\n",
    "We will create instances of the ImageDataGenerator class. Each instance corresponds to one of the datasets: training, validation, and testing.\n"
   ]
  },
  {
   "cell_type": "code",
   "execution_count": null,
   "id": "bdb8eb4c-8ec0-4dca-bbb0-27846f005e15",
   "metadata": {},
   "outputs": [],
   "source": [
    "# Create ImageDataGenerators to preprocess the data\n",
    "train_datagen = ImageDataGenerator(rescale=1./255)\n",
    "valid_datagen = ImageDataGenerator(rescale=1./255)\n",
    "test_datagen = ImageDataGenerator(rescale=1./255)"
   ]
  },
  {
   "cell_type": "markdown",
   "id": "b951e3e5-1104-402e-b954-25c53ceb3f12",
   "metadata": {},
   "source": [
    "Next, we use flow_from_directory() method to load the images from directory and generate the training dataset. The flow_from_directory() method is part of the ImageDataGenerator class in Keras, and it plays a crucial role in automating the process of loading, preprocessing, and batching images for training, validation, and testing.\n",
    "We use the train_datagen object to load and preprocess the training images. Specifically, the flow_from_directory() function is used to read images directly from the directory and generate batches of data that will be fed into the model for training.\n"
   ]
  },
  {
   "cell_type": "code",
   "execution_count": null,
   "id": "deb9eba3-f4cf-408a-83f2-0557d890c85b",
   "metadata": {},
   "outputs": [],
   "source": [
    "train_generator = train_datagen.flow_from_directory(\n",
    "    train_dir,\n",
    "    target_size=(img_rows, img_cols),   # Resize images to the size VGG16 expects\n",
    "    batch_size=batch_size,\n",
    "    seed = seed_value,\n",
    "    class_mode='binary',\n",
    "    shuffle=True # Binary classification: dent vs crack\n",
    ")"
   ]
  },
  {
   "cell_type": "markdown",
   "id": "9eb4df51-0e7a-4a61-bac6-a88c14fb4ac1",
   "metadata": {},
   "source": [
    "## **Task 1: Create a `valid_generator` using the `valid_datagen` object**\n",
    "\n",
    "\n",
    "Please use the following parameters:\n",
    "\n",
    "*   **directory** should be set to `valid_dir`.\n",
    "*   **class_mode** should be set to `'binary'`.\n",
    "*   **seed** should be set to `seed_value`.\n",
    "*   **batch_size** should be set to `batch_size`.\n",
    "*   **shuffle** should be set to `False`.\n",
    "*   **target_size** should be set to `(img_rows, img_cols)`.\n",
    "\n",
    "Hint: the format should be like:\n",
    "\n",
    "```python\n",
    "valid_generator =  valid_datagen.flow_from_directory(\n",
    "    directory=,\n",
    "    class_mode=,\n",
    "    seed=,\n",
    "    batch_size=,\n",
    "    shuffle=,\n",
    "    target_size=\n",
    ")\n",
    "```\n",
    "**Note: Please copy and save the code of the task as it will be required for submission in the final project. Ensure to submit the response as part of your project submission**\n"
   ]
  },
  {
   "cell_type": "code",
   "execution_count": null,
   "id": "c669ff97-1604-4412-8cdb-2bab25096dac",
   "metadata": {},
   "outputs": [],
   "source": [
    "#Write your code here"
   ]
  },
  {
   "cell_type": "markdown",
   "id": "12688259-711b-483e-902b-8ef24eb646bd",
   "metadata": {},
   "source": [
    "## **Task 2: Create a `test_generator` using the `test_datagen` object**\n",
    "\n",
    "Please use the following parameters:\n",
    "\n",
    "*   **directory** should be set to `test_dir`.\n",
    "*   **class_mode** should be set to `'binary'`.\n",
    "*   **seed** should be set to `seed_value`.\n",
    "*   **batch_size** should be set to `batch_size`.\n",
    "*   **shuffle** should be set to `False`.\n",
    "*   **target_size** should be set to `(img_rows, img_cols)`.\n",
    "\n",
    "Hint: The format should be like:\n",
    "\n",
    "```python\n",
    "test_generator = test_datagen.flow_from_directory(\n",
    "    directory=,\n",
    "    class_mode=,\n",
    "    seed=,\n",
    "    batch_size=,\n",
    "    shuffle=,\n",
    "    target_size=\n",
    ")\n",
    "```\n",
    "**Note: Please copy and save the code of the task as it will be required for submission in the final project. Ensure to submit the response as part of your project submission**\n"
   ]
  },
  {
   "cell_type": "code",
   "execution_count": null,
   "id": "26b5607a-d6c8-441b-9bfa-49b198b40599",
   "metadata": {},
   "outputs": [],
   "source": [
    "#Write your code here"
   ]
  },
  {
   "cell_type": "markdown",
   "id": "f1ebb5a9-ff79-4438-a93c-8c2199a0f5df",
   "metadata": {},
   "source": [
    "## 1.3 Model Definition\n",
    "\n",
    "Here, we define the model architecture by using a pre-trained VGG16 model as the base, adding custom layers on top for binary classification of 'dent' and 'crack' types of damage.\n"
   ]
  },
  {
   "cell_type": "markdown",
   "id": "7a222bc8-6577-4cf6-9916-eb595d0b88ef",
   "metadata": {},
   "source": [
    "## **Task 3: Load the pre-trained model VGG16**\n",
    "\n",
    "Set <code>weights='imagenet'</code>,<code>include_top=False</code>,<code>input_shape=(img_rows, img_cols, 3)</code>\n",
    "\n",
    "Hint: The format should be like:\n",
    "\n",
    "base_model = VGG16(weights= , include_top= , input_shape=)\n",
    "\n",
    "****Note: Please copy and save the code of the task as it will be required for submission in the final project. Ensure to submit the response as part of your project submission****\n"
   ]
  },
  {
   "cell_type": "code",
   "execution_count": null,
   "id": "54a3b4dd-1bd2-4d28-a76e-41a36fb4bd5c",
   "metadata": {},
   "outputs": [],
   "source": [
    "#Write your code here"
   ]
  },
  {
   "cell_type": "markdown",
   "id": "97c1cb80-6954-4445-8670-9d106bdcd425",
   "metadata": {},
   "source": [
    "Now, we modify the VGG16 model for our specific classification task. We extract the output from the last layer of the pre-trained VGG16 model, and then create a new model with this modified output. Then we will freeze the base VGG16 model layers so that their weights will not be updated during training.\n"
   ]
  },
  {
   "cell_type": "code",
   "execution_count": null,
   "id": "8a6b0c9e-c584-4ed8-90c3-ad57e3f2bb96",
   "metadata": {},
   "outputs": [],
   "source": [
    "output = base_model.layers[-1].output\n",
    "output = keras.layers.Flatten()(output)\n",
    "base_model = Model(base_model.input, output)\n",
    "\n",
    "# Freeze the base VGG16 model layers\n",
    "for layer in base_model.layers:\n",
    "    layer.trainable = False"
   ]
  },
  {
   "cell_type": "markdown",
   "id": "a838dcb5-d828-48f1-a986-4bc2f6c0d3a7",
   "metadata": {},
   "source": [
    "After using VGG16 as a feature extractor, we add our own classifier on top of the VGG16 model. This involves adding fully connected layers (Dense), activation functions (like ReLU), and sometimes Dropout layers to avoid overfitting.\n",
    "Here, we are adding two dense layers with 512 units each, followed by a Dropout layer, and finally, a Dense layer with one unit and a sigmoid activation to output the probability for binary classification (\"dent\" vs \"crack\").\n"
   ]
  },
  {
   "cell_type": "code",
   "execution_count": null,
   "id": "1595d892-cd4d-4bd5-8c6c-fde357109ca3",
   "metadata": {},
   "outputs": [],
   "source": [
    "# Build the custom model\n",
    "model = Sequential()\n",
    "model.add(base_model)\n",
    "model.add(Dense(512, activation='relu'))\n",
    "model.add(Dropout(0.3))\n",
    "model.add(Dense(512, activation='relu'))\n",
    "model.add(Dropout(0.3))\n",
    "model.add(Dense(1, activation='sigmoid'))"
   ]
  },
  {
   "cell_type": "markdown",
   "id": "84be70fc-927d-4d54-be54-7815de465019",
   "metadata": {},
   "source": [
    "## **Task 4: Compile the model**\n",
    "\n",
    "You will compile the model using the following parameters:\n",
    "\n",
    "*   **loss**: `'binary_crossentropy'`.\n",
    "*   **optimizer**: `=Adam(learning_rate=0.0001)`.\n",
    "*   **metrics**: `['accuracy']`.\n",
    "\n",
    "Hint: Use `model.compile()` to compile the model:\n",
    "    \n",
    "```python\n",
    "model.compile(\n",
    "    optimizer=,\n",
    "    loss=,\n",
    "    metrics=\n",
    ")\n",
    "```\n",
    "**Note: Please copy and save the code of the task as it will be required for submission in the final project. Ensure to submit the response as part of your project submission.**\n"
   ]
  },
  {
   "cell_type": "code",
   "execution_count": null,
   "id": "4440126c-b8e1-4489-9174-a8c0991ab789",
   "metadata": {},
   "outputs": [],
   "source": [
    "# Write your code here\n"
   ]
  },
  {
   "cell_type": "markdown",
   "id": "261b34d3-108b-44f2-86a9-35ec3be592f1",
   "metadata": {},
   "source": [
    "## 1.4 Model Training\n",
    "\n",
    "- This section covers the process of training the model using the prepared dataset.\n"
   ]
  },
  {
   "cell_type": "markdown",
   "id": "dc453c5a-ba70-4157-9d86-f5dcc9fb3cae",
   "metadata": {},
   "source": [
    "## Task 5: Model Training\n",
    "Now that the model is compiled, you can train it using the .fit() method. This step involves passing in the training and validation datasets along with the number of epochs you want to train the model for.\n",
    "\n",
    "You will train the model using the following parameters:\n",
    "\n",
    "*   **train_data**: `train_generator`\n",
    "*   **epochs**: `n_epochs`\n",
    "*   **validation_data**: `valid_generator`\n",
    "\n",
    "Hint: Use `model.fit()` to train the model:\n",
    "    \n",
    "```python\n",
    "history = model.fit(\n",
    "    <train_data>,  # Fill in with the training data generator or dataset\n",
    "    epochs=<number_of_epochs>,  # Fill in with the number of epochs for training\n",
    "    validation_data=<validation_data>,  # Fill in with the validation data generator or dataset\n",
    "   \n",
    ")\n",
    "\n",
    "```\n",
    "**Note: Please copy and save the code of the task as it will be required for submission in the final project. Ensure to submit the response as part of your project submission**\n"
   ]
  },
  {
   "cell_type": "code",
   "execution_count": null,
   "id": "728621b8-ccd3-4dab-8574-126693f4ea96",
   "metadata": {},
   "outputs": [],
   "source": [
    "#Enter your code here\n"
   ]
  },
  {
   "cell_type": "code",
   "execution_count": null,
   "id": "7fe9e973-811a-4562-9c6a-c6ee9f7657ff",
   "metadata": {},
   "outputs": [],
   "source": [
    "# Access the training history\n",
    "train_history = model.history.history  # After training"
   ]
  },
  {
   "cell_type": "markdown",
   "id": "9c44fbdf-ebde-4004-ab51-2627e3c387bf",
   "metadata": {},
   "source": [
    "## 1.5 Visualizing Training Results\n",
    "\n",
    "- After training the model, we visualize the training and validation accuracy and loss to understand the model's learning process.\n"
   ]
  },
  {
   "cell_type": "markdown",
   "id": "7f6e2221-7fc9-4ed9-843d-622b81fe88a1",
   "metadata": {},
   "source": [
    "### Plot loss curves for training and validation sets\n"
   ]
  },
  {
   "cell_type": "code",
   "execution_count": null,
   "id": "e6aecdf4-b6fc-415b-89f6-1922710d93fd",
   "metadata": {},
   "outputs": [],
   "source": [
    "# Plot the loss for both training and validation\n",
    "plt.title(\"Training Loss\")\n",
    "plt.ylabel(\"Loss\")\n",
    "plt.xlabel('Epoch')\n",
    "plt.plot(train_history['loss'])\n",
    "plt.show()\n",
    "\n",
    "plt.title(\"Validation Loss\")\n",
    "plt.ylabel(\"Loss\")\n",
    "plt.xlabel('Epoch')\n",
    "plt.plot(train_history['val_loss'])\n",
    "plt.show()"
   ]
  },
  {
   "cell_type": "markdown",
   "id": "b907a3db-8230-4b86-a659-8fe75593a55e",
   "metadata": {},
   "source": [
    "## Task 6: Plot accuracy curves for training and validation sets\n",
    "\n",
    "Hint: Similar to the loss curves. Use `plt.plot()` to plot the accuracy curves for training and validation sets.\n",
    "\n",
    "- `figsize=(5, 5)`\n",
    "- `plt.plot(train_history['accuracy'], label='Training Accuracy')`\n",
    "- `plt.plot(train_history['val_accuracy'], label='Validation Accuracy')`\n",
    "- **Title**: `'Accuracy Curve'`\n",
    "- **xlabel**: `'Epochs'`\n",
    "- **ylabel**: `'Accuracy'`\n",
    "\n",
    "**Note: Please copy and save the code of the task as it will be required for submission in the final project. Ensure to submit the response as part of your project submission**\n"
   ]
  },
  {
   "cell_type": "code",
   "execution_count": null,
   "id": "524d380e-ce6b-476b-b55f-52f77df55c9c",
   "metadata": {},
   "outputs": [],
   "source": [
    "# Write your code here\n"
   ]
  },
  {
   "cell_type": "markdown",
   "id": "7ca5e4ca-38d3-4125-a4dc-79a9603d6bad",
   "metadata": {},
   "source": [
    "## 1.6 Model Evaluation\n",
    "\n",
    "Now we evaluate the trained model on the test dataset. Calculates test loss and accuracy by evaluating the test generator. Predictions are made for the test dataset, and the results are compared to true labels.\n"
   ]
  },
  {
   "cell_type": "code",
   "execution_count": null,
   "id": "e88aed4f-ef8d-491d-b70d-1363c74f5f24",
   "metadata": {},
   "outputs": [],
   "source": [
    "# Evaluate the model on the test set\n",
    "test_loss, test_accuracy = model.evaluate(test_generator, steps=test_generator.samples // test_generator.batch_size)\n",
    "\n",
    "print(f\"Test Loss: {test_loss:.4f}\")\n",
    "print(f\"Test Accuracy: {test_accuracy:.4f}\")"
   ]
  },
  {
   "cell_type": "markdown",
   "id": "c5ac9629-4c5d-4722-a38a-54f1aa8ddcdb",
   "metadata": {},
   "source": [
    " ## 1.7 Visualizing Predictions\n",
    "\n",
    "Display test images alongside their true and predicted labels.\n",
    "\n",
    "True labels and predictions are retrieved.\n",
    "Images are displayed with labels for visual inspection of model performance.\n"
   ]
  },
  {
   "cell_type": "code",
   "execution_count": null,
   "id": "8146c1de-d2a7-4349-a165-d1e54020f247",
   "metadata": {},
   "outputs": [],
   "source": [
    "import numpy as np\n",
    "import matplotlib.pyplot as plt\n",
    "from tensorflow.keras.preprocessing import image\n",
    "\n",
    "# Function to plot a single image and its prediction\n",
    "def plot_image_with_title(image, model, true_label, predicted_label, class_names):\n",
    "    plt.figure(figsize=(6, 6))\n",
    "    plt.imshow(image)\n",
    "\n",
    "    # Convert labels from one-hot to class indices if needed, but for binary labels it's just 0 or 1\n",
    "    true_label_name = class_names[true_label]  # Labels are already in class indices\n",
    "    pred_label_name = class_names[predicted_label]  # Predictions are 0 or 1\n",
    "\n",
    "    plt.title(f\"True: {true_label_name}\\nPred: {pred_label_name}\")\n",
    "    plt.axis('off')\n",
    "    plt.show()\n",
    "\n",
    "# Function to test the model with images from the test set\n",
    "def test_model_on_image(test_generator, model, index_to_plot=0):\n",
    "    # Get a batch of images and labels from the test generator\n",
    "    test_images, test_labels = next(test_generator)\n",
    "\n",
    "    # Make predictions on the batch\n",
    "    predictions = model.predict(test_images)\n",
    "\n",
    "    # In binary classification, predictions are probabilities (float). Convert to binary (0 or 1)\n",
    "    predicted_classes = (predictions > 0.5).astype(int).flatten()\n",
    "\n",
    "    # Get the class indices from the test generator and invert them to get class names\n",
    "    class_indices = test_generator.class_indices\n",
    "    class_names = {v: k for k, v in class_indices.items()}  # Invert the dictionary\n",
    "\n",
    "    # Specify the image to display based on the index\n",
    "    image_to_plot = test_images[index_to_plot]\n",
    "    true_label = test_labels[index_to_plot]\n",
    "    predicted_label = predicted_classes[index_to_plot]\n",
    "\n",
    "    # Plot the selected image with its true and predicted labels\n",
    "    plot_image_with_title(image=image_to_plot, model=model, true_label=true_label, predicted_label=predicted_label, class_names=class_names)\n",
    "\n",
    "\n"
   ]
  },
  {
   "cell_type": "markdown",
   "id": "28a23452-c0f0-49cc-b112-ded0419566e4",
   "metadata": {},
   "source": [
    "## **Task 7: Visualizing the results**\n",
    "\n",
    "In this task, you will specify which image from the test dataset to display and test the model on. You will fill in the required values to test your model.\n",
    "\n",
    "You will visualize using the following parameters:\n",
    "\n",
    "*   **test_data_generator**: `test_generator`.\n",
    "*   **model**: `model`.\n",
    "*   **index_to_plot**: `1`.\n",
    "\n",
    "Hint: Use `test_model_on_image` to visualize the result:\n",
    "    \n",
    "```python\n",
    "test_model_on_image(<test_data_generator>, <model>, index_to_plot=index_to_plot)\n",
    "\n",
    "```\n",
    "**NOTE**: Due to the inherent nature of neural networks, predictions may vary from the actual labels. For instance, if the actual label is ‘crack’, the prediction could be either ‘crack’ or ‘dent’, both of which are possible outcomes, and full marks will be awarded for the task.\n",
    "\n",
    "**Note: Please copy and save the code of the task as it will be required for submission in the final project. Ensure to submit the response as part of your project submission**                                \n"
   ]
  },
  {
   "cell_type": "code",
   "execution_count": null,
   "id": "7295887f-6ed3-4ffd-a58c-e7b24895418a",
   "metadata": {},
   "outputs": [],
   "source": [
    "#Write your code here"
   ]
  },
  {
   "cell_type": "markdown",
   "id": "c3d6b968-2101-4e5d-80c8-0abd2d65a079",
   "metadata": {},
   "source": [
    "## <a id='toc2_'></a>[Part 2: Image Captioning and Summarization using BLIP Pretrained Model](#toc2_)\n"
   ]
  },
  {
   "cell_type": "markdown",
   "id": "e29332f2-7f0e-419b-a433-251c4a4ac3a2",
   "metadata": {},
   "source": [
    "BLIP (Bootstrapping Language-Image Pretraining) is an advanced vision-and-language model designed to generate natural language descriptions for images. By leveraging both visual and textual information, BLIP can produce human-readable text that accurately reflects the content and context of an image. It is specifically trained to understand images and their relationships to summarizing text, making it ideal for tasks like image captioning, summarization, and visual question answering.\n",
    "\n",
    "In this project, learners will utilize the BLIP model to build a system capable of automatically generating captions and summary for images. The code will integrate the BLIP model within a custom Keras layer. This allows the user to input an image and specify a task, either \"caption\" or \"summary\", to receive a textual output that describes or summarizes the content of the image.\n"
   ]
  },
  {
   "cell_type": "markdown",
   "id": "528f8510-db0b-46e9-908b-a92656d5e603",
   "metadata": {},
   "source": [
    "#### Key Steps:\n",
    "\n",
    "- **Image Loading and Preprocessing:** The code will begin by loading images from a file path, then converting and processing them into a format suitable for input to the BLIP model.\n",
    "  \n",
    "- **Text Generation:** Depending on the task, whether generating a caption or summary, the BLIP model will generate corresponding text based on the processed image.\n",
    "  \n",
    "- **Custom Keras Layer:** A custom Keras layer is a user-defined layer that extends Keras' built-in functionality.Here custom Keras layer will be implemented to wrap the BLIP model. This layer will handle the task-specific processing (captioning or summarizing) and integrate smoothly into a TensorFlow/Keras environment.\n"
   ]
  },
  {
   "cell_type": "code",
   "execution_count": null,
   "id": "73b94429-07b2-4f55-b2d4-68ca4fb6e77a",
   "metadata": {},
   "outputs": [],
   "source": [
    "#Load the required libraries\n",
    "import torch\n",
    "import tensorflow as tf\n",
    "from PIL import Image\n",
    "from transformers import BlipProcessor, BlipForConditionalGeneration"
   ]
  },
  {
   "cell_type": "markdown",
   "id": "9d06dfe3-6417-43bb-bf1c-7461252dcf7e",
   "metadata": {},
   "source": [
    "## 2.1 Loading BLIP Model\n"
   ]
  },
  {
   "cell_type": "markdown",
   "id": "b8fa58be-149e-4fc2-a111-1bd4efbe5ddd",
   "metadata": {},
   "source": [
    "#### Load the BLIP Model and Processor from Hugging Face\n",
    "\n",
    "Hugging Face is an open-source platform that provides pre-trained machine learning models, datasets, and tools, primarily focused on natural language processing, computer vision, and other AI tasks. It offers easy access to powerful models through its Transformers library.\n",
    "\n",
    "- **BlipProcessor:** This handles the preprocessing of images and text. It converts images to the format that the BLIP model can understand.\n",
    "\n",
    "- **BlipForConditionalGeneration:** This is the model itself, responsible for generating captions or summaries based on the processed image.\n"
   ]
  },
  {
   "cell_type": "code",
   "execution_count": null,
   "id": "d1e6c316-5c4e-43f6-b21b-ed080391e5d0",
   "metadata": {},
   "outputs": [],
   "source": [
    "#load the pretrained BLIP processor and model:\n",
    "processor = BlipProcessor.from_pretrained(\"Salesforce/blip-image-captioning-base\")\n",
    "model = BlipForConditionalGeneration.from_pretrained(\"Salesforce/blip-image-captioning-base\")"
   ]
  },
  {
   "cell_type": "markdown",
   "id": "8d7c257b-99ef-4763-9f2a-d9e0209ec8f4",
   "metadata": {},
   "source": [
    "#### Custom Keras Layer: BlipCaptionSummaryLayer\n",
    "\n",
    "Next, we define a custom `tf.keras.layers.Layer` class that takes in an image and a task input (either caption or summary) and processes the image using the BLIP model. To create a custom Keras layer, we need to subclass `tf.keras.layers.Layer` and implement the required methods.\n",
    "\n",
    "#### **BlipCaptionSummaryLayer Class:**\n",
    "\n",
    "This custom Keras layer integrates image preprocessing and text generation using a pretrained BLIP model.\n",
    "\n",
    "- **`__init__`**: This constructor method initializes the `BlipCaptionSummaryLayer` class by setting up the BLIP processor and model.\n",
    "  \n",
    "- **`call`**: This method defines the operations or transformations applied to the input data as it passes through the layer.\n",
    "\n",
    "- **`process_image`**: The `process_image` method contains the custom logic for loading the image, preprocessing it, generating the text (either a caption or a summary) using the BLIP model, and returning the generated result.\n"
   ]
  },
  {
   "cell_type": "code",
   "execution_count": null,
   "id": "829803ea-8494-4107-85bf-42c77da21d53",
   "metadata": {},
   "outputs": [],
   "source": [
    "class BlipCaptionSummaryLayer(tf.keras.layers.Layer):\n",
    "    def __init__(self, processor, model, **kwargs):\n",
    "        \"\"\"\n",
    "        Initialize the custom Keras layer with the BLIP processor and model.\n",
    "\n",
    "        Args:\n",
    "            processor: The BLIP processor for preparing inputs for the model.\n",
    "            model: The BLIP model for generating captions or summaries.\n",
    "        \"\"\"\n",
    "        super().__init__(**kwargs)\n",
    "        self.processor = processor\n",
    "        self.model = model\n",
    "\n",
    "    def call(self, image_path, task):\n",
    "        # Use tf.py_function to run the custom image processing and text generation\n",
    "        return tf.py_function(self.process_image, [image_path, task], tf.string)\n",
    "\n",
    "    def process_image(self, image_path, task):\n",
    "        \"\"\"\n",
    "        Perform image loading, preprocessing, and text generation.\n",
    "\n",
    "        Args:\n",
    "            image_path: Path to the image file as a string.\n",
    "            task: The type of task (\"caption\" or \"summary\").\n",
    "\n",
    "        Returns:\n",
    "            The generated caption or summary as a string.\n",
    "        \"\"\"\n",
    "        try:\n",
    "            # Decode the image path from the TensorFlow tensor to a Python string\n",
    "            image_path_str = image_path.numpy().decode(\"utf-8\")\n",
    "\n",
    "            # Open the image using PIL and convert it to RGB format\n",
    "            image = Image.open(image_path_str).convert(\"RGB\")\n",
    "\n",
    "            # Set the appropriate prompt based on the task\n",
    "            if task.numpy().decode(\"utf-8\") == \"caption\":\n",
    "                prompt = \"This is a picture of\"  # Modify prompt for more natural output\n",
    "            else:\n",
    "                prompt = \"This is a detailed photo showing\"  # Modify for summary\n",
    "\n",
    "            # Prepare inputs for the BLIP model\n",
    "            inputs = self.processor(images=image, text=prompt, return_tensors=\"pt\")\n",
    "\n",
    "            # Generate text output using the BLIP model\n",
    "            output = self.model.generate(**inputs)\n",
    "\n",
    "            # Decode the output into a readable string\n",
    "            result = self.processor.decode(output[0], skip_special_tokens=True)\n",
    "            return result\n",
    "        except Exception as e:\n",
    "            # Handle errors during image processing or text generation\n",
    "            print(f\"Error: {e}\")\n",
    "            return \"Error processing image\"\n"
   ]
  },
  {
   "cell_type": "markdown",
   "id": "4d61b1a4-02fe-49db-8cbd-dad31378f054",
   "metadata": {},
   "source": [
    "## Task 8: Implement a Helper Function to Use the Custom Keras Layer\n",
    "\n",
    "In this task, you will implement a helper function `generate_text` that utilizes the custom `BlipCaptionSummaryLayer` Keras layer to generate captions or summaries for a given image. The function will accept an image path and a task type (caption or summary), process the image using the BLIP model, and return the generated text.\n",
    "\n",
    "### **Steps:**\n",
    "\n",
    "#### Create the Helper Function `generate_text`:\n",
    "The function will accept following parameters:\n",
    "\n",
    "* **`image_path`**: The path to the image file (in tensor format).\n",
    "* **`task`**: The type of task to perform, which can either be \"caption\" or \"summary\" (in tensor format).\n",
    "  \n",
    "Inside the function:\n",
    "1. Create an instance(blip_layer) of the `BlipCaptionSummaryLayer`.\n",
    "2. Call this layer with the provided image path and task type.\n",
    "3. Return the generated caption or summary as the output.\n",
    "\n",
    "**Note: Please copy and save the code of the task as it will be required for submission in the final project. Ensure to submit the response as part of your project submission**\n"
   ]
  },
  {
   "cell_type": "code",
   "execution_count": null,
   "id": "cbda4d99-8c44-4116-b3d7-44b37e42adcd",
   "metadata": {},
   "outputs": [],
   "source": [
    "# Write your code here\n",
    "\n"
   ]
  },
  {
   "cell_type": "markdown",
   "id": "bbe4a610-92b1-46b4-ba49-d2d3c6e76c7c",
   "metadata": {},
   "source": [
    "Double-click <b>here</b> for the Hint.\n",
    "<!-- \n",
    "# Define a helper function to use the custom Keras layer\n",
    "def generate_text(image_path, task):\n",
    "  # Create an instance of the custom Keras layer\n",
    "  # Replace this with the pretrained BLIP processor and model loaded earlier\n",
    "    blip_layer = BlipCaptionSummaryLayer(<blip processor>, <model>)\n",
    "    # Call the layer with the provided inputs\n",
    "    return blip_layer(image_path, task)\n",
    "-->    \n"
   ]
  },
  {
   "cell_type": "markdown",
   "id": "1a8370bf-eb46-47d8-aee1-98a02bf29cc2",
   "metadata": {},
   "source": [
    "## 2.2 Generating Captions and Summaries\n"
   ]
  },
  {
   "cell_type": "markdown",
   "id": "0e8ea1af-2f29-41b3-8aa5-088e3d9faf37",
   "metadata": {},
   "source": [
    "Now we use the `generate_text` function to generate a caption and a summary for an image.\n",
    "It processes the image and prints the corresponding text output in a human-readable format.\n",
    "The function makes it easy to switch between generating captions and summaries based on the task type you provide.</br>\n",
    "</br>\n",
    "\n",
    "**Note:** Generated captions/summary may not always be accurate, as the model is limited by its training data and may not fully understand new or specific images.\n",
    "\n"
   ]
  },
  {
   "cell_type": "code",
   "execution_count": null,
   "id": "cea4af14-fbda-40fb-9a33-8996689d8623",
   "metadata": {},
   "outputs": [],
   "source": [
    "\n",
    "# Path to an example image \n",
    "image_path = tf.constant(\"aircraft_damage_dataset_v1/test/dent/144_10_JPG_jpg.rf.4d008cc33e217c1606b76585469d626b.jpg\")  # actual path of image\n",
    "\n",
    "# Generate a caption for the image\n",
    "caption = generate_text(image_path, tf.constant(\"caption\"))\n",
    "# Decode and print the generated caption\n",
    "print(\"Caption:\", caption.numpy().decode(\"utf-8\"))\n",
    "\n",
    "# Generate a summary for the image\n",
    "summary = generate_text(image_path, tf.constant(\"summary\"))\n",
    "# Decode and print the generated summary\n",
    "print(\"Summary:\", summary.numpy().decode(\"utf-8\"))"
   ]
  },
  {
   "cell_type": "markdown",
   "id": "f1258f42-eded-4721-9a16-1f28cb592130",
   "metadata": {},
   "source": [
    "## Task 9: Generate a caption for an image using the using BLIP pretrained model\n",
    "\n",
    "- Use the image_path variable given below to load the image. Run the cell to before proceeding to next step.\n",
    "- Use the `generate_text` function to generate a caption for the image.\n",
    "- Use the example given in `2.2 Generating Captions and Summaries` for this task\n",
    "  \n",
    "**Note:** Generated captions may not always be accurate, as the model is limited by its training data and may not fully understand new or specific images.\n",
    "  \n",
    "**Note: Please copy and save the output of the task as it will be required for submission in the final project. Ensure to submit the response as part of your project submission**\n"
   ]
  },
  {
   "cell_type": "code",
   "execution_count": null,
   "id": "831d0867-3884-4c84-acde-5e6be4b35d65",
   "metadata": {},
   "outputs": [],
   "source": [
    "# We will use the following image to display Caption and Summary for Task 9 and 10\n",
    "# URL of the image\n",
    "image_url = \"aircraft_damage_dataset_v1/test/dent/149_22_JPG_jpg.rf.4899cbb6f4aad9588fa3811bb886c34d.jpg\"\n",
    "# Load and display the image\n",
    "img = plt.imread(image_url)\n",
    "plt.imshow(img)\n",
    "plt.axis('off')  # Hide the axis\n",
    "plt.show()"
   ]
  },
  {
   "cell_type": "code",
   "execution_count": null,
   "id": "55ebceb2-3f0f-41b9-8117-7302d735342a",
   "metadata": {},
   "outputs": [],
   "source": [
    "image_path = tf.constant(\"aircraft_damage_dataset_v1/test/dent/149_22_JPG_jpg.rf.4899cbb6f4aad9588fa3811bb886c34d.jpg\")  # actual path of image"
   ]
  },
  {
   "cell_type": "code",
   "execution_count": null,
   "id": "055b1558-0293-4219-93c7-56f82d624b39",
   "metadata": {},
   "outputs": [],
   "source": [
    "# Write your code here\n"
   ]
  },
  {
   "cell_type": "markdown",
   "id": "2cabc75d-1066-4db2-9674-0acc11d60980",
   "metadata": {},
   "source": [
    "## Task 10: Generate a summary of an image using BLIP pretrained model\n",
    "\n",
    "- Use the image_path variable given below to load the image. Run the cell before proceeding to next step.\n",
    "- Use the `generate_text` function to generate a caption for the image.\n",
    "- Use the example given in `2.2 Generating Captions and Summaries` for this task\n",
    "\n",
    "**Note:** Generated summary may not always be accurate, as the model is limited by its training data and may not fully understand new or specific images.\n",
    "\n",
    "**Note: Please copy and save the output of the task as it will be required for submission in the final project. Ensure to submit the response as part of your project submission**\n"
   ]
  },
  {
   "cell_type": "code",
   "execution_count": null,
   "id": "3a414210-27ac-49c9-82d6-b451a6c86d31",
   "metadata": {},
   "outputs": [],
   "source": [
    "image_path = tf.constant(\"aircraft_damage_dataset_v1/test/dent/149_22_JPG_jpg.rf.4899cbb6f4aad9588fa3811bb886c34d.jpg\")  # actual path of image"
   ]
  },
  {
   "cell_type": "code",
   "execution_count": null,
   "id": "b0a5ae5e-c1c9-40db-8792-c48b43ec60b0",
   "metadata": {},
   "outputs": [],
   "source": [
    "# Write your code here\n"
   ]
  },
  {
   "cell_type": "markdown",
   "id": "54b85851-5fb0-41fe-a67e-aac9b030f666",
   "metadata": {},
   "source": [
    "### Congratulations on completing the final project!\n",
    "Now, download the file as it will be used for the final grading.Please note that the file should have both code and output of the cells.\n",
    "\n",
    "### Steps to download the file:\n",
    "1. Click on **File** from the left side of the menu.\n",
    "2. Select **Download**.\n",
    "\n",
    "![Download Image](https://cf-courses-data.s3.us.cloud-object-storage.appdomain.cloud/oNELo6MwGDRaIbnzNgzYRA/download.png)\n"
   ]
  },
  {
   "cell_type": "markdown",
   "id": "2afacaf5-9cfc-4535-940e-ce8c1e2d825d",
   "metadata": {},
   "source": [
    "## Authors\n"
   ]
  },
  {
   "cell_type": "markdown",
   "id": "db77dbc2-773d-4965-9d32-2e99708295d4",
   "metadata": {},
   "source": [
    "Vandana Pandey\n"
   ]
  },
  {
   "cell_type": "markdown",
   "id": "21e40c73-1a94-4e15-a809-7193a8c13def",
   "metadata": {},
   "source": [
    "### Other Contributors\n"
   ]
  },
  {
   "cell_type": "markdown",
   "id": "6fa9ab4c-c616-4d5c-891e-a545db3dae4b",
   "metadata": {},
   "source": [
    "[Srishti Srivastava](https://www.linkedin.com/in/srishti-srivastava-343095a8/), [Aman Aggarwal](https://www.linkedin.com/in/aggarwal-aman/)\n"
   ]
  },
  {
   "cell_type": "markdown",
   "id": "415ae519-1590-431a-b61e-ee13fe4a8288",
   "metadata": {},
   "source": [
    "<!--\n",
    "## Change log\n",
    "| Date (YYYY-MM-DD) | Version | Changed By | Change Description    |\n",
    "| ----------------- | ------- | ---------- | --------------------- |\n",
    "| 2025-06-23        | 0.1     | Vandana Pandey| Create Lab        |-->\n"
   ]
  },
  {
   "cell_type": "markdown",
   "id": "1af4cca8-c9a7-41b5-9c86-5e34355b4ae9",
   "metadata": {},
   "source": [
    "## <h3 align=\"center\"> &#169; IBM Corporation. All rights reserved. <h3/>\n"
   ]
  }
 ],
 "metadata": {
  "kernelspec": {
   "display_name": "Python 3",
   "language": "python",
   "name": "python3"
  },
  "language_info": {
   "codemirror_mode": {
    "name": "ipython",
    "version": 3
   },
   "file_extension": ".py",
   "mimetype": "text/x-python",
   "name": "python",
   "nbconvert_exporter": "python",
   "pygments_lexer": "ipython3",
   "version": "3.13.5"
  },
  "prev_pub_hash": "20a5f0ec245fc64437687c16e69a352f7672baee5b3a6a6c35136813dc1b8ea2"
 },
 "nbformat": 4,
 "nbformat_minor": 4
}
